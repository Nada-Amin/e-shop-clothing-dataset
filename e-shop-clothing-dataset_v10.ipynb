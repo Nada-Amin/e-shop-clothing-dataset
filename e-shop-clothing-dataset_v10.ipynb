{
 "cells": [
  {
   "cell_type": "markdown",
   "metadata": {},
   "source": [
    "Data description “e-shop clothing 2008”\n",
    "\n",
    "Variables:\n",
    "\n",
    "    YEAR (2008)\n",
    "\n",
    "========================================================\n",
    "\n",
    "    MONTH -> from April (4) to August (8)\n",
    "\n",
    "========================================================\n",
    "\n",
    "    DAY -> day number of the month\n",
    "\n",
    "========================================================\n",
    "\n",
    "    ORDER -> sequence of clicks during one session\n",
    "\n",
    "========================================================\n",
    "\n",
    "    COUNTRY -> variable indicating the country of origin of the IP address with the\n",
    "    following categories:\n",
    "\n",
    "1-Australia\n",
    "2-Austria\n",
    "3-Belgium\n",
    "4-British Virgin Islands\n",
    "5-Cayman Islands\n",
    "6-Christmas Island\n",
    "7-Croatia\n",
    "8-Cyprus\n",
    "9-Czech Republic\n",
    "10-Denmark\n",
    "11-Estonia\n",
    "12-unidentified\n",
    "13-Faroe Islands\n",
    "14-Finland\n",
    "15-France\n",
    "16-Germany\n",
    "17-Greece\n",
    "18-Hungary\n",
    "18-Iceland\n",
    "20-India\n",
    "21-Ireland\n",
    "22-Italy\n",
    "23-Latvia\n",
    "24-Lithuania\n",
    "25-Luxembourg\n",
    "26-Mexico\n",
    "27-Netherlands\n",
    "28-Norway\n",
    "28-Poland\n",
    "30-Portugal\n",
    "31-Romania\n",
    "32-Russia\n",
    "33-San Marino\n",
    "34-Slovakia\n",
    "35-Slovenia\n",
    "36-Spain\n",
    "37-Sweden\n",
    "38-Switzerland\n",
    "39-Ukraine\n",
    "40-United Arab Emirates\n",
    "41-United Kingdom\n",
    "42-USA\n",
    "43-biz (.biz) 44-com (.com)\n",
    "45-int (.int) 46-net (.net)\n",
    "47-org (*.org)\n",
    "\n",
    "========================================================\n",
    "\n",
    "    SESSION ID -> variable indicating session id (short record)\n",
    "\n",
    "========================================================\n",
    "\n",
    "    PAGE 1 (MAIN CATEGORY) -> concerns the main product category:\n",
    "    1-trousers\n",
    "    2-skirts\n",
    "    3-blouses\n",
    "    4-sale\n",
    "\n",
    "========================================================\n",
    "\n",
    "    PAGE 2 (CLOTHING MODEL) -> contains information about the code for each product\n",
    "    (217 products)\n",
    "\n",
    "========================================================\n",
    "\n",
    "    COLOUR -> colour of product\n",
    "\n",
    "1-beige\n",
    "2-black\n",
    "3-blue\n",
    "4-brown\n",
    "5-burgundy\n",
    "6-gray\n",
    "7-green\n",
    "8-navy blue\n",
    "9-of many colors\n",
    "10-olive\n",
    "11-pink\n",
    "12-red\n",
    "13-violet\n",
    "14-white\n",
    "\n",
    "========================================================\n",
    "\n",
    "    LOCATION -> photo location on the page, the screen has been divided into six parts:\n",
    "\n",
    "1-top left\n",
    "2-top in the middle\n",
    "3-top right\n",
    "4-bottom left\n",
    "5-bottom in the middle\n",
    "6-bottom right\n",
    "\n",
    "========================================================\n",
    "\n",
    "    MODEL PHOTOGRAPHY -> variable with two categories:\n",
    "\n",
    "1-en face\n",
    "2-profile\n",
    "\n",
    "========================================================\n",
    "\n",
    "    PRICE -> price in US dollars\n",
    "\n",
    "========================================================\n",
    "\n",
    "    PRICE 2 -> variable informing whether the price of a particular product is higher than\n",
    "    the average price for the entire product category\n",
    "\n",
    "1-yes\n",
    "2-no\n",
    "\n",
    "========================================================\n",
    "\n",
    "    PAGE -> page number within the e-store website (from 1 to 5)\n",
    "\n",
    "++++++++++++++++++++++++++++++++++++++++++++++++++++++++\n",
    "\n",
    "I want to know how to solve this data regarding any problem (clustering, regression, classification, EDA)"
   ]
  },
  {
   "cell_type": "code",
   "execution_count": 1,
   "metadata": {
    "execution": {
     "iopub.execute_input": "2022-09-29T12:56:59.967159Z",
     "iopub.status.busy": "2022-09-29T12:56:59.966123Z",
     "iopub.status.idle": "2022-09-29T12:57:04.145839Z",
     "shell.execute_reply": "2022-09-29T12:57:04.144567Z",
     "shell.execute_reply.started": "2022-09-29T12:56:59.967046Z"
    }
   },
   "outputs": [],
   "source": [
    "# importing libiraries\n",
    "import seaborn as sns\n",
    "import numpy as np \n",
    "import pandas as pd \n",
    "import matplotlib.pyplot as plt\n",
    "import plotly.express as px\n",
    "import plotly.figure_factory as ff\n",
    "import plotly.graph_objects as go\n",
    "from plotly.subplots import make_subplots\n",
    "sns.set() # this command sets the seaborn chart style as the default\n",
    "# suppressing warnings\n",
    "import warnings\n",
    "warnings.filterwarnings('ignore')\n",
    "%matplotlib inline\n",
    "\n",
    "# machine learning libraries\n",
    "from sklearn.model_selection import cross_val_score\n",
    "# train test split\n",
    "from sklearn.model_selection import train_test_split\n",
    "from sklearn import preprocessing\n",
    "from sklearn.base import TransformerMixin\n",
    "from sklearn.model_selection import train_test_split\n",
    "from sklearn.preprocessing import MinMaxScaler\n",
    "import statsmodels.api as sm\n",
    "from sklearn.feature_selection import RFE\n",
    "from statsmodels.stats.outliers_influence import variance_inflation_factor\n",
    "from sklearn.metrics import r2_score\n"
   ]
  },
  {
   "cell_type": "code",
   "execution_count": 2,
   "metadata": {
    "execution": {
     "iopub.execute_input": "2022-09-29T12:57:04.148903Z",
     "iopub.status.busy": "2022-09-29T12:57:04.148200Z",
     "iopub.status.idle": "2022-09-29T12:57:04.448228Z",
     "shell.execute_reply": "2022-09-29T12:57:04.446914Z",
     "shell.execute_reply.started": "2022-09-29T12:57:04.148858Z"
    }
   },
   "outputs": [
    {
     "data": {
      "text/html": [
       "<div>\n",
       "<style scoped>\n",
       "    .dataframe tbody tr th:only-of-type {\n",
       "        vertical-align: middle;\n",
       "    }\n",
       "\n",
       "    .dataframe tbody tr th {\n",
       "        vertical-align: top;\n",
       "    }\n",
       "\n",
       "    .dataframe thead th {\n",
       "        text-align: right;\n",
       "    }\n",
       "</style>\n",
       "<table border=\"1\" class=\"dataframe\">\n",
       "  <thead>\n",
       "    <tr style=\"text-align: right;\">\n",
       "      <th></th>\n",
       "      <th>year</th>\n",
       "      <th>month</th>\n",
       "      <th>day</th>\n",
       "      <th>order</th>\n",
       "      <th>country</th>\n",
       "      <th>session ID</th>\n",
       "      <th>page 1 (main category)</th>\n",
       "      <th>page 2 (clothing model)</th>\n",
       "      <th>colour</th>\n",
       "      <th>location</th>\n",
       "      <th>model photography</th>\n",
       "      <th>price</th>\n",
       "      <th>price 2</th>\n",
       "      <th>page</th>\n",
       "    </tr>\n",
       "  </thead>\n",
       "  <tbody>\n",
       "    <tr>\n",
       "      <th>0</th>\n",
       "      <td>2008</td>\n",
       "      <td>4</td>\n",
       "      <td>1</td>\n",
       "      <td>1</td>\n",
       "      <td>29</td>\n",
       "      <td>1</td>\n",
       "      <td>1</td>\n",
       "      <td>A13</td>\n",
       "      <td>1</td>\n",
       "      <td>5</td>\n",
       "      <td>1</td>\n",
       "      <td>28</td>\n",
       "      <td>2</td>\n",
       "      <td>1</td>\n",
       "    </tr>\n",
       "    <tr>\n",
       "      <th>1</th>\n",
       "      <td>2008</td>\n",
       "      <td>4</td>\n",
       "      <td>1</td>\n",
       "      <td>2</td>\n",
       "      <td>29</td>\n",
       "      <td>1</td>\n",
       "      <td>1</td>\n",
       "      <td>A16</td>\n",
       "      <td>1</td>\n",
       "      <td>6</td>\n",
       "      <td>1</td>\n",
       "      <td>33</td>\n",
       "      <td>2</td>\n",
       "      <td>1</td>\n",
       "    </tr>\n",
       "    <tr>\n",
       "      <th>2</th>\n",
       "      <td>2008</td>\n",
       "      <td>4</td>\n",
       "      <td>1</td>\n",
       "      <td>3</td>\n",
       "      <td>29</td>\n",
       "      <td>1</td>\n",
       "      <td>2</td>\n",
       "      <td>B4</td>\n",
       "      <td>10</td>\n",
       "      <td>2</td>\n",
       "      <td>1</td>\n",
       "      <td>52</td>\n",
       "      <td>1</td>\n",
       "      <td>1</td>\n",
       "    </tr>\n",
       "    <tr>\n",
       "      <th>3</th>\n",
       "      <td>2008</td>\n",
       "      <td>4</td>\n",
       "      <td>1</td>\n",
       "      <td>4</td>\n",
       "      <td>29</td>\n",
       "      <td>1</td>\n",
       "      <td>2</td>\n",
       "      <td>B17</td>\n",
       "      <td>6</td>\n",
       "      <td>6</td>\n",
       "      <td>2</td>\n",
       "      <td>38</td>\n",
       "      <td>2</td>\n",
       "      <td>1</td>\n",
       "    </tr>\n",
       "    <tr>\n",
       "      <th>4</th>\n",
       "      <td>2008</td>\n",
       "      <td>4</td>\n",
       "      <td>1</td>\n",
       "      <td>5</td>\n",
       "      <td>29</td>\n",
       "      <td>1</td>\n",
       "      <td>2</td>\n",
       "      <td>B8</td>\n",
       "      <td>4</td>\n",
       "      <td>3</td>\n",
       "      <td>2</td>\n",
       "      <td>52</td>\n",
       "      <td>1</td>\n",
       "      <td>1</td>\n",
       "    </tr>\n",
       "  </tbody>\n",
       "</table>\n",
       "</div>"
      ],
      "text/plain": [
       "   year  month  day  order  country  session ID  page 1 (main category)  \\\n",
       "0  2008      4    1      1       29           1                       1   \n",
       "1  2008      4    1      2       29           1                       1   \n",
       "2  2008      4    1      3       29           1                       2   \n",
       "3  2008      4    1      4       29           1                       2   \n",
       "4  2008      4    1      5       29           1                       2   \n",
       "\n",
       "  page 2 (clothing model)  colour  location  model photography  price  \\\n",
       "0                     A13       1         5                  1     28   \n",
       "1                     A16       1         6                  1     33   \n",
       "2                      B4      10         2                  1     52   \n",
       "3                     B17       6         6                  2     38   \n",
       "4                      B8       4         3                  2     52   \n",
       "\n",
       "   price 2  page  \n",
       "0        2     1  \n",
       "1        2     1  \n",
       "2        1     1  \n",
       "3        2     1  \n",
       "4        1     1  "
      ]
     },
     "execution_count": 2,
     "metadata": {},
     "output_type": "execute_result"
    }
   ],
   "source": [
    "# read e-shop clothing 2008.csv\n",
    "df = pd.read_csv('e-shop clothing 2008.csv', delimiter=',')\n",
    "df.head()"
   ]
  },
  {
   "cell_type": "markdown",
   "metadata": {},
   "source": [
    "## EDA"
   ]
  },
  {
   "cell_type": "code",
   "execution_count": 3,
   "metadata": {
    "execution": {
     "iopub.execute_input": "2022-09-29T12:57:04.450260Z",
     "iopub.status.busy": "2022-09-29T12:57:04.449822Z",
     "iopub.status.idle": "2022-09-29T12:57:04.489186Z",
     "shell.execute_reply": "2022-09-29T12:57:04.487989Z",
     "shell.execute_reply.started": "2022-09-29T12:57:04.450219Z"
    }
   },
   "outputs": [
    {
     "name": "stdout",
     "output_type": "stream",
     "text": [
      "<class 'pandas.core.frame.DataFrame'>\n",
      "RangeIndex: 165474 entries, 0 to 165473\n",
      "Data columns (total 14 columns):\n",
      " #   Column                   Non-Null Count   Dtype \n",
      "---  ------                   --------------   ----- \n",
      " 0   year                     165474 non-null  int64 \n",
      " 1   month                    165474 non-null  int64 \n",
      " 2   day                      165474 non-null  int64 \n",
      " 3   order                    165474 non-null  int64 \n",
      " 4   country                  165474 non-null  int64 \n",
      " 5   session ID               165474 non-null  int64 \n",
      " 6   page 1 (main category)   165474 non-null  int64 \n",
      " 7   page 2 (clothing model)  165474 non-null  object\n",
      " 8   colour                   165474 non-null  int64 \n",
      " 9   location                 165474 non-null  int64 \n",
      " 10  model photography        165474 non-null  int64 \n",
      " 11  price                    165474 non-null  int64 \n",
      " 12  price 2                  165474 non-null  int64 \n",
      " 13  page                     165474 non-null  int64 \n",
      "dtypes: int64(13), object(1)\n",
      "memory usage: 17.7+ MB\n"
     ]
    }
   ],
   "source": [
    "df.info()"
   ]
  },
  {
   "cell_type": "code",
   "execution_count": 4,
   "metadata": {
    "execution": {
     "iopub.execute_input": "2022-09-29T12:57:04.492900Z",
     "iopub.status.busy": "2022-09-29T12:57:04.492474Z",
     "iopub.status.idle": "2022-09-29T12:57:04.560802Z",
     "shell.execute_reply": "2022-09-29T12:57:04.559776Z",
     "shell.execute_reply.started": "2022-09-29T12:57:04.492863Z"
    }
   },
   "outputs": [
    {
     "data": {
      "text/plain": [
       "0"
      ]
     },
     "execution_count": 4,
     "metadata": {},
     "output_type": "execute_result"
    }
   ],
   "source": [
    "# find duplicate rows\n",
    "df.duplicated().sum()"
   ]
  },
  {
   "cell_type": "code",
   "execution_count": 5,
   "metadata": {
    "execution": {
     "iopub.execute_input": "2022-09-29T12:57:04.562774Z",
     "iopub.status.busy": "2022-09-29T12:57:04.562432Z",
     "iopub.status.idle": "2022-09-29T12:57:04.668375Z",
     "shell.execute_reply": "2022-09-29T12:57:04.666967Z",
     "shell.execute_reply.started": "2022-09-29T12:57:04.562743Z"
    }
   },
   "outputs": [
    {
     "data": {
      "text/html": [
       "<div>\n",
       "<style scoped>\n",
       "    .dataframe tbody tr th:only-of-type {\n",
       "        vertical-align: middle;\n",
       "    }\n",
       "\n",
       "    .dataframe tbody tr th {\n",
       "        vertical-align: top;\n",
       "    }\n",
       "\n",
       "    .dataframe thead th {\n",
       "        text-align: right;\n",
       "    }\n",
       "</style>\n",
       "<table border=\"1\" class=\"dataframe\">\n",
       "  <thead>\n",
       "    <tr style=\"text-align: right;\">\n",
       "      <th></th>\n",
       "      <th>year</th>\n",
       "      <th>month</th>\n",
       "      <th>day</th>\n",
       "      <th>order</th>\n",
       "      <th>country</th>\n",
       "      <th>session ID</th>\n",
       "      <th>page 1 (main category)</th>\n",
       "      <th>colour</th>\n",
       "      <th>location</th>\n",
       "      <th>model photography</th>\n",
       "      <th>price</th>\n",
       "      <th>price 2</th>\n",
       "      <th>page</th>\n",
       "    </tr>\n",
       "  </thead>\n",
       "  <tbody>\n",
       "    <tr>\n",
       "      <th>count</th>\n",
       "      <td>165474.0</td>\n",
       "      <td>165474.000000</td>\n",
       "      <td>165474.000000</td>\n",
       "      <td>165474.000000</td>\n",
       "      <td>165474.000000</td>\n",
       "      <td>165474.000000</td>\n",
       "      <td>165474.000000</td>\n",
       "      <td>165474.000000</td>\n",
       "      <td>165474.000000</td>\n",
       "      <td>165474.000000</td>\n",
       "      <td>165474.000000</td>\n",
       "      <td>165474.000000</td>\n",
       "      <td>165474.000000</td>\n",
       "    </tr>\n",
       "    <tr>\n",
       "      <th>mean</th>\n",
       "      <td>2008.0</td>\n",
       "      <td>5.585887</td>\n",
       "      <td>14.524554</td>\n",
       "      <td>9.817476</td>\n",
       "      <td>26.952621</td>\n",
       "      <td>12058.417056</td>\n",
       "      <td>2.400842</td>\n",
       "      <td>6.227655</td>\n",
       "      <td>3.258198</td>\n",
       "      <td>1.260071</td>\n",
       "      <td>43.802507</td>\n",
       "      <td>1.488167</td>\n",
       "      <td>1.710166</td>\n",
       "    </tr>\n",
       "    <tr>\n",
       "      <th>std</th>\n",
       "      <td>0.0</td>\n",
       "      <td>1.328160</td>\n",
       "      <td>8.830374</td>\n",
       "      <td>13.478411</td>\n",
       "      <td>7.150691</td>\n",
       "      <td>7008.418903</td>\n",
       "      <td>1.144420</td>\n",
       "      <td>4.235606</td>\n",
       "      <td>1.713206</td>\n",
       "      <td>0.438674</td>\n",
       "      <td>12.548131</td>\n",
       "      <td>0.499861</td>\n",
       "      <td>0.982412</td>\n",
       "    </tr>\n",
       "    <tr>\n",
       "      <th>min</th>\n",
       "      <td>2008.0</td>\n",
       "      <td>4.000000</td>\n",
       "      <td>1.000000</td>\n",
       "      <td>1.000000</td>\n",
       "      <td>1.000000</td>\n",
       "      <td>1.000000</td>\n",
       "      <td>1.000000</td>\n",
       "      <td>1.000000</td>\n",
       "      <td>1.000000</td>\n",
       "      <td>1.000000</td>\n",
       "      <td>18.000000</td>\n",
       "      <td>1.000000</td>\n",
       "      <td>1.000000</td>\n",
       "    </tr>\n",
       "    <tr>\n",
       "      <th>25%</th>\n",
       "      <td>2008.0</td>\n",
       "      <td>4.000000</td>\n",
       "      <td>7.000000</td>\n",
       "      <td>2.000000</td>\n",
       "      <td>29.000000</td>\n",
       "      <td>5931.000000</td>\n",
       "      <td>1.000000</td>\n",
       "      <td>3.000000</td>\n",
       "      <td>2.000000</td>\n",
       "      <td>1.000000</td>\n",
       "      <td>33.000000</td>\n",
       "      <td>1.000000</td>\n",
       "      <td>1.000000</td>\n",
       "    </tr>\n",
       "    <tr>\n",
       "      <th>50%</th>\n",
       "      <td>2008.0</td>\n",
       "      <td>5.000000</td>\n",
       "      <td>14.000000</td>\n",
       "      <td>6.000000</td>\n",
       "      <td>29.000000</td>\n",
       "      <td>11967.500000</td>\n",
       "      <td>2.000000</td>\n",
       "      <td>4.000000</td>\n",
       "      <td>3.000000</td>\n",
       "      <td>1.000000</td>\n",
       "      <td>43.000000</td>\n",
       "      <td>1.000000</td>\n",
       "      <td>1.000000</td>\n",
       "    </tr>\n",
       "    <tr>\n",
       "      <th>75%</th>\n",
       "      <td>2008.0</td>\n",
       "      <td>7.000000</td>\n",
       "      <td>22.000000</td>\n",
       "      <td>12.000000</td>\n",
       "      <td>29.000000</td>\n",
       "      <td>18219.000000</td>\n",
       "      <td>3.000000</td>\n",
       "      <td>9.000000</td>\n",
       "      <td>5.000000</td>\n",
       "      <td>2.000000</td>\n",
       "      <td>52.000000</td>\n",
       "      <td>2.000000</td>\n",
       "      <td>2.000000</td>\n",
       "    </tr>\n",
       "    <tr>\n",
       "      <th>max</th>\n",
       "      <td>2008.0</td>\n",
       "      <td>8.000000</td>\n",
       "      <td>31.000000</td>\n",
       "      <td>195.000000</td>\n",
       "      <td>47.000000</td>\n",
       "      <td>24026.000000</td>\n",
       "      <td>4.000000</td>\n",
       "      <td>14.000000</td>\n",
       "      <td>6.000000</td>\n",
       "      <td>2.000000</td>\n",
       "      <td>82.000000</td>\n",
       "      <td>2.000000</td>\n",
       "      <td>5.000000</td>\n",
       "    </tr>\n",
       "  </tbody>\n",
       "</table>\n",
       "</div>"
      ],
      "text/plain": [
       "           year          month            day          order        country  \\\n",
       "count  165474.0  165474.000000  165474.000000  165474.000000  165474.000000   \n",
       "mean     2008.0       5.585887      14.524554       9.817476      26.952621   \n",
       "std         0.0       1.328160       8.830374      13.478411       7.150691   \n",
       "min      2008.0       4.000000       1.000000       1.000000       1.000000   \n",
       "25%      2008.0       4.000000       7.000000       2.000000      29.000000   \n",
       "50%      2008.0       5.000000      14.000000       6.000000      29.000000   \n",
       "75%      2008.0       7.000000      22.000000      12.000000      29.000000   \n",
       "max      2008.0       8.000000      31.000000     195.000000      47.000000   \n",
       "\n",
       "          session ID  page 1 (main category)         colour       location  \\\n",
       "count  165474.000000           165474.000000  165474.000000  165474.000000   \n",
       "mean    12058.417056                2.400842       6.227655       3.258198   \n",
       "std      7008.418903                1.144420       4.235606       1.713206   \n",
       "min         1.000000                1.000000       1.000000       1.000000   \n",
       "25%      5931.000000                1.000000       3.000000       2.000000   \n",
       "50%     11967.500000                2.000000       4.000000       3.000000   \n",
       "75%     18219.000000                3.000000       9.000000       5.000000   \n",
       "max     24026.000000                4.000000      14.000000       6.000000   \n",
       "\n",
       "       model photography          price        price 2           page  \n",
       "count      165474.000000  165474.000000  165474.000000  165474.000000  \n",
       "mean            1.260071      43.802507       1.488167       1.710166  \n",
       "std             0.438674      12.548131       0.499861       0.982412  \n",
       "min             1.000000      18.000000       1.000000       1.000000  \n",
       "25%             1.000000      33.000000       1.000000       1.000000  \n",
       "50%             1.000000      43.000000       1.000000       1.000000  \n",
       "75%             2.000000      52.000000       2.000000       2.000000  \n",
       "max             2.000000      82.000000       2.000000       5.000000  "
      ]
     },
     "execution_count": 5,
     "metadata": {},
     "output_type": "execute_result"
    }
   ],
   "source": [
    "df.describe()"
   ]
  },
  {
   "cell_type": "code",
   "execution_count": 6,
   "metadata": {
    "execution": {
     "iopub.execute_input": "2022-09-29T12:57:04.670342Z",
     "iopub.status.busy": "2022-09-29T12:57:04.669996Z",
     "iopub.status.idle": "2022-09-29T12:57:04.678208Z",
     "shell.execute_reply": "2022-09-29T12:57:04.676833Z",
     "shell.execute_reply.started": "2022-09-29T12:57:04.670311Z"
    }
   },
   "outputs": [],
   "source": [
    "# Set the matplotlib color cycle using a seaborn palette\n",
    "sns.set_palette('colorblind')"
   ]
  },
  {
   "cell_type": "markdown",
   "metadata": {},
   "source": [
    "Price 2 visualization to know how many above average"
   ]
  },
  {
   "cell_type": "code",
   "execution_count": 7,
   "metadata": {
    "execution": {
     "iopub.execute_input": "2022-09-29T12:57:04.680439Z",
     "iopub.status.busy": "2022-09-29T12:57:04.680102Z",
     "iopub.status.idle": "2022-09-29T12:57:05.015898Z",
     "shell.execute_reply": "2022-09-29T12:57:05.014702Z",
     "shell.execute_reply.started": "2022-09-29T12:57:04.680409Z"
    }
   },
   "outputs": [
    {
     "data": {
      "image/png": "[encoded data removed]",
      "text/plain": [
       "<Figure size 720x720 with 1 Axes>"
      ]
     },
     "metadata": {},
     "output_type": "display_data"
    }
   ],
   "source": [
    "#labels=[\"Yes\",\"No\"]\n",
    "#sns.set_style(\"dark\")\n",
    "sns.set_style(\"white\")\n",
    "cols= [\"#C77B77\",\"#A3B08E\"]\n",
    "plt.figure(figsize=(10,10))\n",
    "sns.countplot(x= df['price 2'],\n",
    "             palette=cols,)\n",
    "plt.title(\"Is price above the average?\", fontsize = 16, weight = \"bold\")\n",
    "plt.xlabel(\"Price average\", fontsize = 13, weight = \"bold\")\n",
    "plt.ylabel(\"Count\", fontsize = 13, weight = \"bold\")\n",
    "#plt.legend(labels = labels, loc = \"best\") # Add a legend and specify its location on the chart.\n",
    "sns.despine() # removes the top and right border of our graph\n",
    "plt.savefig(\"Is price above the average.png\") #export chart as a picture\n",
    "plt.show()"
   ]
  },
  {
   "cell_type": "code",
   "execution_count": 8,
   "metadata": {
    "execution": {
     "iopub.execute_input": "2022-09-29T12:57:05.018380Z",
     "iopub.status.busy": "2022-09-29T12:57:05.017407Z",
     "iopub.status.idle": "2022-09-29T12:57:05.079986Z",
     "shell.execute_reply": "2022-09-29T12:57:05.078914Z",
     "shell.execute_reply.started": "2022-09-29T12:57:05.018334Z"
    }
   },
   "outputs": [
    {
     "data": {
      "text/html": [
       "<div>\n",
       "<style scoped>\n",
       "    .dataframe tbody tr th:only-of-type {\n",
       "        vertical-align: middle;\n",
       "    }\n",
       "\n",
       "    .dataframe tbody tr th {\n",
       "        vertical-align: top;\n",
       "    }\n",
       "\n",
       "    .dataframe thead th {\n",
       "        text-align: right;\n",
       "    }\n",
       "</style>\n",
       "<table border=\"1\" class=\"dataframe\">\n",
       "  <thead>\n",
       "    <tr style=\"text-align: right;\">\n",
       "      <th></th>\n",
       "      <th>year</th>\n",
       "      <th>month</th>\n",
       "      <th>day</th>\n",
       "      <th>order</th>\n",
       "      <th>country</th>\n",
       "      <th>session ID</th>\n",
       "      <th>Type</th>\n",
       "      <th>page 2 (clothing model)</th>\n",
       "      <th>colour</th>\n",
       "      <th>location</th>\n",
       "      <th>model photography</th>\n",
       "      <th>price</th>\n",
       "      <th>price 2</th>\n",
       "      <th>page</th>\n",
       "    </tr>\n",
       "  </thead>\n",
       "  <tbody>\n",
       "    <tr>\n",
       "      <th>0</th>\n",
       "      <td>2008</td>\n",
       "      <td>April</td>\n",
       "      <td>1</td>\n",
       "      <td>1</td>\n",
       "      <td>29</td>\n",
       "      <td>1</td>\n",
       "      <td>Trousers</td>\n",
       "      <td>A13</td>\n",
       "      <td>1</td>\n",
       "      <td>5</td>\n",
       "      <td>1</td>\n",
       "      <td>28</td>\n",
       "      <td>2</td>\n",
       "      <td>1</td>\n",
       "    </tr>\n",
       "    <tr>\n",
       "      <th>1</th>\n",
       "      <td>2008</td>\n",
       "      <td>April</td>\n",
       "      <td>1</td>\n",
       "      <td>2</td>\n",
       "      <td>29</td>\n",
       "      <td>1</td>\n",
       "      <td>Trousers</td>\n",
       "      <td>A16</td>\n",
       "      <td>1</td>\n",
       "      <td>6</td>\n",
       "      <td>1</td>\n",
       "      <td>33</td>\n",
       "      <td>2</td>\n",
       "      <td>1</td>\n",
       "    </tr>\n",
       "    <tr>\n",
       "      <th>2</th>\n",
       "      <td>2008</td>\n",
       "      <td>April</td>\n",
       "      <td>1</td>\n",
       "      <td>3</td>\n",
       "      <td>29</td>\n",
       "      <td>1</td>\n",
       "      <td>Skirts</td>\n",
       "      <td>B4</td>\n",
       "      <td>10</td>\n",
       "      <td>2</td>\n",
       "      <td>1</td>\n",
       "      <td>52</td>\n",
       "      <td>1</td>\n",
       "      <td>1</td>\n",
       "    </tr>\n",
       "    <tr>\n",
       "      <th>3</th>\n",
       "      <td>2008</td>\n",
       "      <td>April</td>\n",
       "      <td>1</td>\n",
       "      <td>4</td>\n",
       "      <td>29</td>\n",
       "      <td>1</td>\n",
       "      <td>Skirts</td>\n",
       "      <td>B17</td>\n",
       "      <td>6</td>\n",
       "      <td>6</td>\n",
       "      <td>2</td>\n",
       "      <td>38</td>\n",
       "      <td>2</td>\n",
       "      <td>1</td>\n",
       "    </tr>\n",
       "    <tr>\n",
       "      <th>4</th>\n",
       "      <td>2008</td>\n",
       "      <td>April</td>\n",
       "      <td>1</td>\n",
       "      <td>5</td>\n",
       "      <td>29</td>\n",
       "      <td>1</td>\n",
       "      <td>Skirts</td>\n",
       "      <td>B8</td>\n",
       "      <td>4</td>\n",
       "      <td>3</td>\n",
       "      <td>2</td>\n",
       "      <td>52</td>\n",
       "      <td>1</td>\n",
       "      <td>1</td>\n",
       "    </tr>\n",
       "    <tr>\n",
       "      <th>5</th>\n",
       "      <td>2008</td>\n",
       "      <td>April</td>\n",
       "      <td>1</td>\n",
       "      <td>6</td>\n",
       "      <td>29</td>\n",
       "      <td>1</td>\n",
       "      <td>Blouses</td>\n",
       "      <td>C56</td>\n",
       "      <td>6</td>\n",
       "      <td>1</td>\n",
       "      <td>2</td>\n",
       "      <td>57</td>\n",
       "      <td>1</td>\n",
       "      <td>4</td>\n",
       "    </tr>\n",
       "    <tr>\n",
       "      <th>6</th>\n",
       "      <td>2008</td>\n",
       "      <td>April</td>\n",
       "      <td>1</td>\n",
       "      <td>7</td>\n",
       "      <td>29</td>\n",
       "      <td>1</td>\n",
       "      <td>Blouses</td>\n",
       "      <td>C57</td>\n",
       "      <td>5</td>\n",
       "      <td>1</td>\n",
       "      <td>2</td>\n",
       "      <td>33</td>\n",
       "      <td>2</td>\n",
       "      <td>4</td>\n",
       "    </tr>\n",
       "    <tr>\n",
       "      <th>7</th>\n",
       "      <td>2008</td>\n",
       "      <td>April</td>\n",
       "      <td>1</td>\n",
       "      <td>8</td>\n",
       "      <td>29</td>\n",
       "      <td>1</td>\n",
       "      <td>Sale</td>\n",
       "      <td>P67</td>\n",
       "      <td>9</td>\n",
       "      <td>5</td>\n",
       "      <td>1</td>\n",
       "      <td>38</td>\n",
       "      <td>1</td>\n",
       "      <td>4</td>\n",
       "    </tr>\n",
       "    <tr>\n",
       "      <th>8</th>\n",
       "      <td>2008</td>\n",
       "      <td>April</td>\n",
       "      <td>1</td>\n",
       "      <td>9</td>\n",
       "      <td>29</td>\n",
       "      <td>1</td>\n",
       "      <td>Sale</td>\n",
       "      <td>P82</td>\n",
       "      <td>6</td>\n",
       "      <td>4</td>\n",
       "      <td>2</td>\n",
       "      <td>48</td>\n",
       "      <td>1</td>\n",
       "      <td>5</td>\n",
       "    </tr>\n",
       "    <tr>\n",
       "      <th>9</th>\n",
       "      <td>2008</td>\n",
       "      <td>April</td>\n",
       "      <td>1</td>\n",
       "      <td>1</td>\n",
       "      <td>29</td>\n",
       "      <td>2</td>\n",
       "      <td>Skirts</td>\n",
       "      <td>B31</td>\n",
       "      <td>9</td>\n",
       "      <td>5</td>\n",
       "      <td>1</td>\n",
       "      <td>57</td>\n",
       "      <td>1</td>\n",
       "      <td>2</td>\n",
       "    </tr>\n",
       "    <tr>\n",
       "      <th>10</th>\n",
       "      <td>2008</td>\n",
       "      <td>April</td>\n",
       "      <td>1</td>\n",
       "      <td>2</td>\n",
       "      <td>29</td>\n",
       "      <td>2</td>\n",
       "      <td>Skirts</td>\n",
       "      <td>B21</td>\n",
       "      <td>12</td>\n",
       "      <td>1</td>\n",
       "      <td>1</td>\n",
       "      <td>67</td>\n",
       "      <td>1</td>\n",
       "      <td>2</td>\n",
       "    </tr>\n",
       "    <tr>\n",
       "      <th>11</th>\n",
       "      <td>2008</td>\n",
       "      <td>April</td>\n",
       "      <td>1</td>\n",
       "      <td>3</td>\n",
       "      <td>29</td>\n",
       "      <td>2</td>\n",
       "      <td>Skirts</td>\n",
       "      <td>B24</td>\n",
       "      <td>11</td>\n",
       "      <td>2</td>\n",
       "      <td>1</td>\n",
       "      <td>57</td>\n",
       "      <td>1</td>\n",
       "      <td>2</td>\n",
       "    </tr>\n",
       "    <tr>\n",
       "      <th>12</th>\n",
       "      <td>2008</td>\n",
       "      <td>April</td>\n",
       "      <td>1</td>\n",
       "      <td>4</td>\n",
       "      <td>29</td>\n",
       "      <td>2</td>\n",
       "      <td>Skirts</td>\n",
       "      <td>B27</td>\n",
       "      <td>2</td>\n",
       "      <td>3</td>\n",
       "      <td>1</td>\n",
       "      <td>57</td>\n",
       "      <td>1</td>\n",
       "      <td>2</td>\n",
       "    </tr>\n",
       "    <tr>\n",
       "      <th>13</th>\n",
       "      <td>2008</td>\n",
       "      <td>April</td>\n",
       "      <td>1</td>\n",
       "      <td>5</td>\n",
       "      <td>29</td>\n",
       "      <td>2</td>\n",
       "      <td>Trousers</td>\n",
       "      <td>A10</td>\n",
       "      <td>3</td>\n",
       "      <td>4</td>\n",
       "      <td>1</td>\n",
       "      <td>38</td>\n",
       "      <td>2</td>\n",
       "      <td>1</td>\n",
       "    </tr>\n",
       "    <tr>\n",
       "      <th>14</th>\n",
       "      <td>2008</td>\n",
       "      <td>April</td>\n",
       "      <td>1</td>\n",
       "      <td>6</td>\n",
       "      <td>29</td>\n",
       "      <td>2</td>\n",
       "      <td>Trousers</td>\n",
       "      <td>A10</td>\n",
       "      <td>3</td>\n",
       "      <td>4</td>\n",
       "      <td>1</td>\n",
       "      <td>38</td>\n",
       "      <td>2</td>\n",
       "      <td>1</td>\n",
       "    </tr>\n",
       "    <tr>\n",
       "      <th>15</th>\n",
       "      <td>2008</td>\n",
       "      <td>April</td>\n",
       "      <td>1</td>\n",
       "      <td>7</td>\n",
       "      <td>29</td>\n",
       "      <td>2</td>\n",
       "      <td>Skirts</td>\n",
       "      <td>B27</td>\n",
       "      <td>2</td>\n",
       "      <td>3</td>\n",
       "      <td>1</td>\n",
       "      <td>57</td>\n",
       "      <td>1</td>\n",
       "      <td>2</td>\n",
       "    </tr>\n",
       "    <tr>\n",
       "      <th>16</th>\n",
       "      <td>2008</td>\n",
       "      <td>April</td>\n",
       "      <td>1</td>\n",
       "      <td>8</td>\n",
       "      <td>29</td>\n",
       "      <td>2</td>\n",
       "      <td>Sale</td>\n",
       "      <td>P1</td>\n",
       "      <td>3</td>\n",
       "      <td>1</td>\n",
       "      <td>1</td>\n",
       "      <td>38</td>\n",
       "      <td>1</td>\n",
       "      <td>1</td>\n",
       "    </tr>\n",
       "    <tr>\n",
       "      <th>17</th>\n",
       "      <td>2008</td>\n",
       "      <td>April</td>\n",
       "      <td>1</td>\n",
       "      <td>9</td>\n",
       "      <td>29</td>\n",
       "      <td>2</td>\n",
       "      <td>Sale</td>\n",
       "      <td>P34</td>\n",
       "      <td>9</td>\n",
       "      <td>6</td>\n",
       "      <td>2</td>\n",
       "      <td>48</td>\n",
       "      <td>1</td>\n",
       "      <td>2</td>\n",
       "    </tr>\n",
       "    <tr>\n",
       "      <th>18</th>\n",
       "      <td>2008</td>\n",
       "      <td>April</td>\n",
       "      <td>1</td>\n",
       "      <td>10</td>\n",
       "      <td>29</td>\n",
       "      <td>2</td>\n",
       "      <td>Sale</td>\n",
       "      <td>P33</td>\n",
       "      <td>9</td>\n",
       "      <td>5</td>\n",
       "      <td>1</td>\n",
       "      <td>43</td>\n",
       "      <td>1</td>\n",
       "      <td>2</td>\n",
       "    </tr>\n",
       "    <tr>\n",
       "      <th>19</th>\n",
       "      <td>2008</td>\n",
       "      <td>April</td>\n",
       "      <td>1</td>\n",
       "      <td>1</td>\n",
       "      <td>21</td>\n",
       "      <td>3</td>\n",
       "      <td>Skirts</td>\n",
       "      <td>B17</td>\n",
       "      <td>6</td>\n",
       "      <td>6</td>\n",
       "      <td>2</td>\n",
       "      <td>38</td>\n",
       "      <td>2</td>\n",
       "      <td>1</td>\n",
       "    </tr>\n",
       "  </tbody>\n",
       "</table>\n",
       "</div>"
      ],
      "text/plain": [
       "    year  month  day  order  country  session ID      Type  \\\n",
       "0   2008  April    1      1       29           1  Trousers   \n",
       "1   2008  April    1      2       29           1  Trousers   \n",
       "2   2008  April    1      3       29           1    Skirts   \n",
       "3   2008  April    1      4       29           1    Skirts   \n",
       "4   2008  April    1      5       29           1    Skirts   \n",
       "5   2008  April    1      6       29           1   Blouses   \n",
       "6   2008  April    1      7       29           1   Blouses   \n",
       "7   2008  April    1      8       29           1      Sale   \n",
       "8   2008  April    1      9       29           1      Sale   \n",
       "9   2008  April    1      1       29           2    Skirts   \n",
       "10  2008  April    1      2       29           2    Skirts   \n",
       "11  2008  April    1      3       29           2    Skirts   \n",
       "12  2008  April    1      4       29           2    Skirts   \n",
       "13  2008  April    1      5       29           2  Trousers   \n",
       "14  2008  April    1      6       29           2  Trousers   \n",
       "15  2008  April    1      7       29           2    Skirts   \n",
       "16  2008  April    1      8       29           2      Sale   \n",
       "17  2008  April    1      9       29           2      Sale   \n",
       "18  2008  April    1     10       29           2      Sale   \n",
       "19  2008  April    1      1       21           3    Skirts   \n",
       "\n",
       "   page 2 (clothing model)  colour  location  model photography  price  \\\n",
       "0                      A13       1         5                  1     28   \n",
       "1                      A16       1         6                  1     33   \n",
       "2                       B4      10         2                  1     52   \n",
       "3                      B17       6         6                  2     38   \n",
       "4                       B8       4         3                  2     52   \n",
       "5                      C56       6         1                  2     57   \n",
       "6                      C57       5         1                  2     33   \n",
       "7                      P67       9         5                  1     38   \n",
       "8                      P82       6         4                  2     48   \n",
       "9                      B31       9         5                  1     57   \n",
       "10                     B21      12         1                  1     67   \n",
       "11                     B24      11         2                  1     57   \n",
       "12                     B27       2         3                  1     57   \n",
       "13                     A10       3         4                  1     38   \n",
       "14                     A10       3         4                  1     38   \n",
       "15                     B27       2         3                  1     57   \n",
       "16                      P1       3         1                  1     38   \n",
       "17                     P34       9         6                  2     48   \n",
       "18                     P33       9         5                  1     43   \n",
       "19                     B17       6         6                  2     38   \n",
       "\n",
       "    price 2  page  \n",
       "0         2     1  \n",
       "1         2     1  \n",
       "2         1     1  \n",
       "3         2     1  \n",
       "4         1     1  \n",
       "5         1     4  \n",
       "6         2     4  \n",
       "7         1     4  \n",
       "8         1     5  \n",
       "9         1     2  \n",
       "10        1     2  \n",
       "11        1     2  \n",
       "12        1     2  \n",
       "13        2     1  \n",
       "14        2     1  \n",
       "15        1     2  \n",
       "16        1     1  \n",
       "17        1     2  \n",
       "18        1     2  \n",
       "19        2     1  "
      ]
     },
     "execution_count": 8,
     "metadata": {},
     "output_type": "execute_result"
    }
   ],
   "source": [
    "df_viz = df.rename(columns={ 'page 1 (main category)':'Type'})\n",
    "df_viz.Type = df_viz.Type.replace({1: 'Trousers', 2: 'Skirts', 3: 'Blouses', 4: 'Sale'})\n",
    "df_viz.month = df_viz.month.replace({4: 'April', 5: 'May', 6: 'June', 7:'July', 8: 'August'})\n",
    "df_viz.head(20)"
   ]
  },
  {
   "cell_type": "code",
   "execution_count": 9,
   "metadata": {
    "execution": {
     "iopub.execute_input": "2022-09-29T12:57:05.082268Z",
     "iopub.status.busy": "2022-09-29T12:57:05.081616Z",
     "iopub.status.idle": "2022-09-29T12:57:10.237564Z",
     "shell.execute_reply": "2022-09-29T12:57:10.236696Z",
     "shell.execute_reply.started": "2022-09-29T12:57:05.082230Z"
    }
   },
   "outputs": [
    {
     "data": {
      "image/png": "[encoded data removed]",
      "text/plain": [
       "<Figure size 576x576 with 1 Axes>"
      ]
     },
     "metadata": {},
     "output_type": "display_data"
    }
   ],
   "source": [
    "labels=['April','May','June','July','August']\n",
    "sns.catplot(data=df_viz, x=\"month\", y=\"order\",height=8)\n",
    "plt.title(\"Number of orders in each month\", fontsize = 16, weight = \"bold\")\n",
    "plt.xlabel(\"Month\", fontsize = 14, weight = \"bold\")\n",
    "plt.ylabel(\"Number of orders\", fontsize = 14, weight = \"bold\")\n",
    "plt.legend(labels = labels, loc = \"best\")\n",
    "plt.savefig(\"Number of orders in each month.png\") #export chart as a picture"
   ]
  },
  {
   "cell_type": "markdown",
   "metadata": {},
   "source": [
    "August is the month with the highest number of orders then June"
   ]
  },
  {
   "cell_type": "markdown",
   "metadata": {},
   "source": [
    "Let's check why August and June has the highest number of orders and on the other hand, April has the least number of orders"
   ]
  },
  {
   "cell_type": "code",
   "execution_count": 10,
   "metadata": {
    "execution": {
     "iopub.execute_input": "2022-09-29T12:57:10.242109Z",
     "iopub.status.busy": "2022-09-29T12:57:10.241105Z",
     "iopub.status.idle": "2022-09-29T12:57:10.274790Z",
     "shell.execute_reply": "2022-09-29T12:57:10.273694Z",
     "shell.execute_reply.started": "2022-09-29T12:57:10.242073Z"
    },
    "scrolled": true
   },
   "outputs": [
    {
     "data": {
      "text/html": [
       "<div>\n",
       "<style scoped>\n",
       "    .dataframe tbody tr th:only-of-type {\n",
       "        vertical-align: middle;\n",
       "    }\n",
       "\n",
       "    .dataframe tbody tr th {\n",
       "        vertical-align: top;\n",
       "    }\n",
       "\n",
       "    .dataframe thead th {\n",
       "        text-align: right;\n",
       "    }\n",
       "</style>\n",
       "<table border=\"1\" class=\"dataframe\">\n",
       "  <thead>\n",
       "    <tr style=\"text-align: right;\">\n",
       "      <th></th>\n",
       "      <th>colour</th>\n",
       "      <th>location</th>\n",
       "      <th>model photography</th>\n",
       "      <th>price 2</th>\n",
       "      <th>Type</th>\n",
       "    </tr>\n",
       "  </thead>\n",
       "  <tbody>\n",
       "    <tr>\n",
       "      <th>0</th>\n",
       "      <td>1</td>\n",
       "      <td>5</td>\n",
       "      <td>1</td>\n",
       "      <td>2</td>\n",
       "      <td>Trousers</td>\n",
       "    </tr>\n",
       "    <tr>\n",
       "      <th>1</th>\n",
       "      <td>1</td>\n",
       "      <td>6</td>\n",
       "      <td>1</td>\n",
       "      <td>2</td>\n",
       "      <td>Trousers</td>\n",
       "    </tr>\n",
       "    <tr>\n",
       "      <th>2</th>\n",
       "      <td>10</td>\n",
       "      <td>2</td>\n",
       "      <td>1</td>\n",
       "      <td>1</td>\n",
       "      <td>Skirts</td>\n",
       "    </tr>\n",
       "    <tr>\n",
       "      <th>3</th>\n",
       "      <td>6</td>\n",
       "      <td>6</td>\n",
       "      <td>2</td>\n",
       "      <td>2</td>\n",
       "      <td>Skirts</td>\n",
       "    </tr>\n",
       "    <tr>\n",
       "      <th>4</th>\n",
       "      <td>4</td>\n",
       "      <td>3</td>\n",
       "      <td>2</td>\n",
       "      <td>1</td>\n",
       "      <td>Skirts</td>\n",
       "    </tr>\n",
       "    <tr>\n",
       "      <th>...</th>\n",
       "      <td>...</td>\n",
       "      <td>...</td>\n",
       "      <td>...</td>\n",
       "      <td>...</td>\n",
       "      <td>...</td>\n",
       "    </tr>\n",
       "    <tr>\n",
       "      <th>48194</th>\n",
       "      <td>6</td>\n",
       "      <td>5</td>\n",
       "      <td>2</td>\n",
       "      <td>2</td>\n",
       "      <td>Skirts</td>\n",
       "    </tr>\n",
       "    <tr>\n",
       "      <th>48195</th>\n",
       "      <td>2</td>\n",
       "      <td>6</td>\n",
       "      <td>1</td>\n",
       "      <td>2</td>\n",
       "      <td>Skirts</td>\n",
       "    </tr>\n",
       "    <tr>\n",
       "      <th>48196</th>\n",
       "      <td>4</td>\n",
       "      <td>2</td>\n",
       "      <td>1</td>\n",
       "      <td>1</td>\n",
       "      <td>Sale</td>\n",
       "    </tr>\n",
       "    <tr>\n",
       "      <th>48197</th>\n",
       "      <td>12</td>\n",
       "      <td>1</td>\n",
       "      <td>2</td>\n",
       "      <td>2</td>\n",
       "      <td>Sale</td>\n",
       "    </tr>\n",
       "    <tr>\n",
       "      <th>48198</th>\n",
       "      <td>3</td>\n",
       "      <td>2</td>\n",
       "      <td>2</td>\n",
       "      <td>2</td>\n",
       "      <td>Trousers</td>\n",
       "    </tr>\n",
       "  </tbody>\n",
       "</table>\n",
       "<p>48199 rows × 5 columns</p>\n",
       "</div>"
      ],
      "text/plain": [
       "       colour  location  model photography  price 2      Type\n",
       "0           1         5                  1        2  Trousers\n",
       "1           1         6                  1        2  Trousers\n",
       "2          10         2                  1        1    Skirts\n",
       "3           6         6                  2        2    Skirts\n",
       "4           4         3                  2        1    Skirts\n",
       "...       ...       ...                ...      ...       ...\n",
       "48194       6         5                  2        2    Skirts\n",
       "48195       2         6                  1        2    Skirts\n",
       "48196       4         2                  1        1      Sale\n",
       "48197      12         1                  2        2      Sale\n",
       "48198       3         2                  2        2  Trousers\n",
       "\n",
       "[48199 rows x 5 columns]"
      ]
     },
     "execution_count": 10,
     "metadata": {},
     "output_type": "execute_result"
    }
   ],
   "source": [
    "df_sliced_April = df_viz.loc[(df_viz[\"month\"] == \"April\"),  \n",
    "\n",
    "               [\"colour\",\"location\",\"model photography\",\"price 2\",\"Type\"]]\n",
    "df_sliced_April"
   ]
  },
  {
   "cell_type": "code",
   "execution_count": 24,
   "metadata": {},
   "outputs": [
    {
     "data": {
      "text/plain": [
       "'colour'"
      ]
     },
     "execution_count": 24,
     "metadata": {},
     "output_type": "execute_result"
    }
   ],
   "source": [
    "df_sliced_April.columns[0]"
   ]
  },
  {
   "cell_type": "code",
   "execution_count": 30,
   "metadata": {
    "execution": {
     "iopub.execute_input": "2022-09-29T12:57:10.276473Z",
     "iopub.status.busy": "2022-09-29T12:57:10.276146Z",
     "iopub.status.idle": "2022-09-29T12:57:11.014303Z",
     "shell.execute_reply": "2022-09-29T12:57:11.013117Z",
     "shell.execute_reply.started": "2022-09-29T12:57:10.276444Z"
    }
   },
   "outputs": [
    {
     "name": "stdout",
     "output_type": "stream",
     "text": [
      "graph for colour: total = 14\n"
     ]
    },
    {
     "data": {
      "image/png": "[encoded data removed]",
      "text/plain": [
       "<Figure size 432x288 with 1 Axes>"
      ]
     },
     "metadata": {},
     "output_type": "display_data"
    },
    {
     "name": "stdout",
     "output_type": "stream",
     "text": [
      "graph for location: total = 6\n"
     ]
    },
    {
     "data": {
      "image/png": "[encoded data removed]",
      "text/plain": [
       "<Figure size 432x288 with 1 Axes>"
      ]
     },
     "metadata": {},
     "output_type": "display_data"
    },
    {
     "name": "stdout",
     "output_type": "stream",
     "text": [
      "graph for model photography: total = 2\n"
     ]
    },
    {
     "data": {
      "image/png": "[encoded data removed]",
      "text/plain": [
       "<Figure size 432x288 with 1 Axes>"
      ]
     },
     "metadata": {},
     "output_type": "display_data"
    },
    {
     "name": "stdout",
     "output_type": "stream",
     "text": [
      "graph for price 2: total = 2\n"
     ]
    },
    {
     "data": {
      "image/png": "[encoded data removed]",
      "text/plain": [
       "<Figure size 432x288 with 1 Axes>"
      ]
     },
     "metadata": {},
     "output_type": "display_data"
    },
    {
     "name": "stdout",
     "output_type": "stream",
     "text": [
      "graph for Type: total = 4\n"
     ]
    },
    {
     "data": {
      "image/png": "[encoded data removed]",
      "text/plain": [
       "<Figure size 432x288 with 1 Axes>"
      ]
     },
     "metadata": {},
     "output_type": "display_data"
    }
   ],
   "source": [
    "for i in df_sliced_April.columns:\n",
    "    if i=='colour':\n",
    "        cols=[\"#DCB87A\",\"#080707\",\"#1D1F98\",\"#7F563B\",\"#800020\",\"#808080\",\"#00FF00\",\"#000080\",\"#FFC0CB\",\"#808000\",\"#FFC0CB\",\"#FF0000\",\"#EE82EE\",\"#FFFFFF\"]  \n",
    "        cat_num = df_sliced_April[i].value_counts()\n",
    "        print(\"graph for %s: total = %d\" % (i, len(cat_num)))\n",
    "        chart = sns.barplot(x=cat_num.index, y=cat_num, palette=cols)\n",
    "        chart.set_xticklabels(chart.get_xticklabels(), rotation=90)\n",
    "        sns.despine() # removes the top and right border of our graph\n",
    "        plt.show()\n",
    "    else:\n",
    "        cat_num = df_sliced_April[i].value_counts()\n",
    "        print(\"graph for %s: total = %d\" % (i, len(cat_num)))\n",
    "        chart = sns.barplot(x=cat_num.index, y=cat_num,)\n",
    "        chart.set_xticklabels(chart.get_xticklabels(), rotation=90)\n",
    "        sns.despine() # removes the top and right border of our graph\n",
    "        plt.show()\n",
    "        "
   ]
  },
  {
   "cell_type": "markdown",
   "metadata": {},
   "source": [
    "highest color:2\n",
    "highest location:1\n",
    "highest model-photography:1\n",
    "highest price 2:1\n",
    "highest Type: Trousers"
   ]
  },
  {
   "cell_type": "code",
   "execution_count": 31,
   "metadata": {
    "execution": {
     "iopub.execute_input": "2022-09-29T12:57:11.018586Z",
     "iopub.status.busy": "2022-09-29T12:57:11.018233Z",
     "iopub.status.idle": "2022-09-29T12:57:11.049202Z",
     "shell.execute_reply": "2022-09-29T12:57:11.047965Z",
     "shell.execute_reply.started": "2022-09-29T12:57:11.018554Z"
    }
   },
   "outputs": [
    {
     "data": {
      "text/html": [
       "<div>\n",
       "<style scoped>\n",
       "    .dataframe tbody tr th:only-of-type {\n",
       "        vertical-align: middle;\n",
       "    }\n",
       "\n",
       "    .dataframe tbody tr th {\n",
       "        vertical-align: top;\n",
       "    }\n",
       "\n",
       "    .dataframe thead th {\n",
       "        text-align: right;\n",
       "    }\n",
       "</style>\n",
       "<table border=\"1\" class=\"dataframe\">\n",
       "  <thead>\n",
       "    <tr style=\"text-align: right;\">\n",
       "      <th></th>\n",
       "      <th>colour</th>\n",
       "      <th>location</th>\n",
       "      <th>model photography</th>\n",
       "      <th>price 2</th>\n",
       "      <th>Type</th>\n",
       "    </tr>\n",
       "  </thead>\n",
       "  <tbody>\n",
       "    <tr>\n",
       "      <th>151326</th>\n",
       "      <td>3</td>\n",
       "      <td>4</td>\n",
       "      <td>1</td>\n",
       "      <td>1</td>\n",
       "      <td>Trousers</td>\n",
       "    </tr>\n",
       "    <tr>\n",
       "      <th>151327</th>\n",
       "      <td>3</td>\n",
       "      <td>4</td>\n",
       "      <td>1</td>\n",
       "      <td>2</td>\n",
       "      <td>Trousers</td>\n",
       "    </tr>\n",
       "    <tr>\n",
       "      <th>151328</th>\n",
       "      <td>3</td>\n",
       "      <td>1</td>\n",
       "      <td>1</td>\n",
       "      <td>2</td>\n",
       "      <td>Trousers</td>\n",
       "    </tr>\n",
       "    <tr>\n",
       "      <th>151329</th>\n",
       "      <td>11</td>\n",
       "      <td>2</td>\n",
       "      <td>1</td>\n",
       "      <td>1</td>\n",
       "      <td>Blouses</td>\n",
       "    </tr>\n",
       "    <tr>\n",
       "      <th>151330</th>\n",
       "      <td>13</td>\n",
       "      <td>1</td>\n",
       "      <td>1</td>\n",
       "      <td>2</td>\n",
       "      <td>Skirts</td>\n",
       "    </tr>\n",
       "    <tr>\n",
       "      <th>...</th>\n",
       "      <td>...</td>\n",
       "      <td>...</td>\n",
       "      <td>...</td>\n",
       "      <td>...</td>\n",
       "      <td>...</td>\n",
       "    </tr>\n",
       "    <tr>\n",
       "      <th>165469</th>\n",
       "      <td>2</td>\n",
       "      <td>4</td>\n",
       "      <td>1</td>\n",
       "      <td>1</td>\n",
       "      <td>Skirts</td>\n",
       "    </tr>\n",
       "    <tr>\n",
       "      <th>165470</th>\n",
       "      <td>3</td>\n",
       "      <td>4</td>\n",
       "      <td>1</td>\n",
       "      <td>1</td>\n",
       "      <td>Trousers</td>\n",
       "    </tr>\n",
       "    <tr>\n",
       "      <th>165471</th>\n",
       "      <td>3</td>\n",
       "      <td>1</td>\n",
       "      <td>1</td>\n",
       "      <td>2</td>\n",
       "      <td>Trousers</td>\n",
       "    </tr>\n",
       "    <tr>\n",
       "      <th>165472</th>\n",
       "      <td>12</td>\n",
       "      <td>1</td>\n",
       "      <td>1</td>\n",
       "      <td>1</td>\n",
       "      <td>Blouses</td>\n",
       "    </tr>\n",
       "    <tr>\n",
       "      <th>165473</th>\n",
       "      <td>3</td>\n",
       "      <td>1</td>\n",
       "      <td>2</td>\n",
       "      <td>1</td>\n",
       "      <td>Skirts</td>\n",
       "    </tr>\n",
       "  </tbody>\n",
       "</table>\n",
       "<p>14148 rows × 5 columns</p>\n",
       "</div>"
      ],
      "text/plain": [
       "        colour  location  model photography  price 2      Type\n",
       "151326       3         4                  1        1  Trousers\n",
       "151327       3         4                  1        2  Trousers\n",
       "151328       3         1                  1        2  Trousers\n",
       "151329      11         2                  1        1   Blouses\n",
       "151330      13         1                  1        2    Skirts\n",
       "...        ...       ...                ...      ...       ...\n",
       "165469       2         4                  1        1    Skirts\n",
       "165470       3         4                  1        1  Trousers\n",
       "165471       3         1                  1        2  Trousers\n",
       "165472      12         1                  1        1   Blouses\n",
       "165473       3         1                  2        1    Skirts\n",
       "\n",
       "[14148 rows x 5 columns]"
      ]
     },
     "execution_count": 31,
     "metadata": {},
     "output_type": "execute_result"
    }
   ],
   "source": [
    "df_sliced_August = df_viz.loc[(df_viz[\"month\"] == \"August\"),  \n",
    "\n",
    "               [\"colour\",\"location\",\"model photography\",\"price 2\",\"Type\"]]\n",
    "df_sliced_August"
   ]
  },
  {
   "cell_type": "code",
   "execution_count": 33,
   "metadata": {
    "execution": {
     "iopub.execute_input": "2022-09-29T12:57:11.051597Z",
     "iopub.status.busy": "2022-09-29T12:57:11.050877Z",
     "iopub.status.idle": "2022-09-29T12:57:11.795559Z",
     "shell.execute_reply": "2022-09-29T12:57:11.794699Z",
     "shell.execute_reply.started": "2022-09-29T12:57:11.051553Z"
    }
   },
   "outputs": [
    {
     "name": "stdout",
     "output_type": "stream",
     "text": [
      "graph for colour: total = 14\n"
     ]
    },
    {
     "data": {
      "image/png": "[encoded data removed]",
      "text/plain": [
       "<Figure size 432x288 with 1 Axes>"
      ]
     },
     "metadata": {},
     "output_type": "display_data"
    },
    {
     "name": "stdout",
     "output_type": "stream",
     "text": [
      "graph for location: total = 6\n"
     ]
    },
    {
     "data": {
      "image/png": "[encoded data removed]",
      "text/plain": [
       "<Figure size 432x288 with 1 Axes>"
      ]
     },
     "metadata": {},
     "output_type": "display_data"
    },
    {
     "name": "stdout",
     "output_type": "stream",
     "text": [
      "graph for model photography: total = 2\n"
     ]
    },
    {
     "data": {
      "image/png": "[encoded data removed]",
      "text/plain": [
       "<Figure size 432x288 with 1 Axes>"
      ]
     },
     "metadata": {},
     "output_type": "display_data"
    },
    {
     "name": "stdout",
     "output_type": "stream",
     "text": [
      "graph for price 2: total = 2\n"
     ]
    },
    {
     "data": {
      "image/png": "[encoded data removed]",
      "text/plain": [
       "<Figure size 432x288 with 1 Axes>"
      ]
     },
     "metadata": {},
     "output_type": "display_data"
    },
    {
     "name": "stdout",
     "output_type": "stream",
     "text": [
      "graph for Type: total = 4\n"
     ]
    },
    {
     "data": {
      "image/png": "[encoded data removed]",
      "text/plain": [
       "<Figure size 432x288 with 1 Axes>"
      ]
     },
     "metadata": {},
     "output_type": "display_data"
    }
   ],
   "source": [
    "for i in df_sliced_August.columns:\n",
    "    if i=='colour':\n",
    "        cols=[\"#DCB87A\",\"#080707\",\"#1D1F98\",\"#7F563B\",\"#800020\",\"#808080\",\"#00FF00\",\"#000080\",\"#FFC0CB\",\"#808000\",\"#FFC0CB\",\"#FF0000\",\"#EE82EE\",\"#FFFFFF\"]  \n",
    "        cat_num = df_sliced_August[i].value_counts()\n",
    "        print(\"graph for %s: total = %d\" % (i, len(cat_num)))\n",
    "        chart = sns.barplot(x=cat_num.index, y=cat_num, palette=cols)\n",
    "        chart.set_xticklabels(chart.get_xticklabels(), rotation=90)\n",
    "        sns.despine() # removes the top and right border of our graph\n",
    "        plt.show()\n",
    "    else:\n",
    "        cat_num = df_sliced_August[i].value_counts()\n",
    "        print(\"graph for %s: total = %d\" % (i, len(cat_num)))\n",
    "        chart = sns.barplot(x=cat_num.index, y=cat_num,)\n",
    "        chart.set_xticklabels(chart.get_xticklabels(), rotation=90)\n",
    "        sns.despine() # removes the top and right border of our graph\n",
    "        plt.show()"
   ]
  },
  {
   "cell_type": "markdown",
   "metadata": {},
   "source": [
    "Does Type affect price?"
   ]
  },
  {
   "cell_type": "code",
   "execution_count": 34,
   "metadata": {
    "execution": {
     "iopub.execute_input": "2022-09-29T12:57:11.797838Z",
     "iopub.status.busy": "2022-09-29T12:57:11.797099Z",
     "iopub.status.idle": "2022-09-29T12:57:11.807126Z",
     "shell.execute_reply": "2022-09-29T12:57:11.805883Z",
     "shell.execute_reply.started": "2022-09-29T12:57:11.797795Z"
    }
   },
   "outputs": [
    {
     "data": {
      "text/plain": [
       "0         Trousers\n",
       "1         Trousers\n",
       "2           Skirts\n",
       "3           Skirts\n",
       "4           Skirts\n",
       "            ...   \n",
       "165469      Skirts\n",
       "165470    Trousers\n",
       "165471    Trousers\n",
       "165472     Blouses\n",
       "165473      Skirts\n",
       "Name: Type, Length: 165474, dtype: object"
      ]
     },
     "execution_count": 34,
     "metadata": {},
     "output_type": "execute_result"
    }
   ],
   "source": [
    "df_viz[\"Type\"]"
   ]
  },
  {
   "cell_type": "code",
   "execution_count": 35,
   "metadata": {
    "execution": {
     "iopub.execute_input": "2022-09-29T12:57:11.809594Z",
     "iopub.status.busy": "2022-09-29T12:57:11.808979Z",
     "iopub.status.idle": "2022-09-29T12:57:12.431347Z",
     "shell.execute_reply": "2022-09-29T12:57:12.430106Z",
     "shell.execute_reply.started": "2022-09-29T12:57:11.809552Z"
    }
   },
   "outputs": [
    {
     "data": {
      "image/png": "[encoded data removed]",
      "text/plain": [
       "<Figure size 648x648 with 1 Axes>"
      ]
     },
     "metadata": {},
     "output_type": "display_data"
    }
   ],
   "source": [
    "#labels=['Trousers','Skirts','Blouses','Sale']\n",
    "sns.set_style(\"white\")\n",
    "cols=[\"#3AB795\",\"#A0E8AF\",\"#86BAA1\",\"#B8B8AA\"]\n",
    "sns.catplot(data=df_viz, x=\"Type\", kind=\"count\", palette=cols, height=9)\n",
    "plt.title(\"Number of each Type\", fontsize = 14, weight = \"bold\")\n",
    "plt.xlabel(\"Type\", fontsize = 13, weight = \"bold\")\n",
    "plt.ylabel(\"Number of each type\", fontsize = 13, weight = \"bold\")\n",
    "#plt.legend(labels = labels, loc = \"best\")\n",
    "plt.savefig(\"Number of each Type.png\") #export chart as a picture"
   ]
  },
  {
   "cell_type": "code",
   "execution_count": 36,
   "metadata": {
    "execution": {
     "iopub.execute_input": "2022-09-29T12:57:12.433541Z",
     "iopub.status.busy": "2022-09-29T12:57:12.432918Z",
     "iopub.status.idle": "2022-09-29T12:57:15.146857Z",
     "shell.execute_reply": "2022-09-29T12:57:15.145700Z",
     "shell.execute_reply.started": "2022-09-29T12:57:12.433487Z"
    }
   },
   "outputs": [
    {
     "data": {
      "image/png": "[encoded data removed]",
      "text/plain": [
       "<Figure size 648x648 with 1 Axes>"
      ]
     },
     "metadata": {},
     "output_type": "display_data"
    }
   ],
   "source": [
    "sns.catplot(data=df_viz, x=\"price\", y=\"Type\", kind=\"bar\",palette=\"ch:.25\", height=9)\n",
    "plt.title(\"Does Type affect price?\", fontsize = 20, weight = \"bold\")\n",
    "plt.xlabel(\"Type\", fontsize = 18, weight = \"bold\")\n",
    "plt.ylabel(\"price\", fontsize = 18, weight = \"bold\")\n",
    "#plt.legend(labels = labels, loc = \"best\")\n",
    "plt.savefig(\"Does Type affect price.png\") #export chart as a picture"
   ]
  },
  {
   "cell_type": "markdown",
   "metadata": {},
   "source": [
    "Sales per day in each month"
   ]
  },
  {
   "cell_type": "code",
   "execution_count": 37,
   "metadata": {
    "execution": {
     "iopub.execute_input": "2022-09-29T12:57:15.148767Z",
     "iopub.status.busy": "2022-09-29T12:57:15.148377Z",
     "iopub.status.idle": "2022-09-29T12:57:23.348254Z",
     "shell.execute_reply": "2022-09-29T12:57:23.347265Z",
     "shell.execute_reply.started": "2022-09-29T12:57:15.148734Z"
    }
   },
   "outputs": [
    {
     "data": {
      "image/png": "[encoded data removed]",
      "text/plain": [
       "<Figure size 1440x1080 with 1 Axes>"
      ]
     },
     "metadata": {},
     "output_type": "display_data"
    }
   ],
   "source": [
    "plt.figure(figsize = (20, 15)) # size of the figure\n",
    "scatter = plt.scatter(df_viz['month'],\n",
    "            df_viz['price'], \n",
    "            alpha = 0.6, #transparency level of points on the plot. Used to avoid overplotting\n",
    "            c = df_viz['day'], # additional third feature\n",
    "            cmap = 'viridis') #color map for the third variable\n",
    "# add and format additional elements, such as legends, titles and axis labels\n",
    "plt.legend(*scatter.legend_elements(),\n",
    "           loc = \"best\",\n",
    "           title = \"day\")\n",
    "plt.title(\"Sales per day in each month\", \n",
    "          fontsize = 14, \n",
    "          weight = \"bold\")\n",
    "plt.xlabel(\"month\", weight = \"bold\")\n",
    "plt.ylabel(\"price\")\n",
    "sns.despine() # removes the top and right border of our graph\n",
    "plt.show()"
   ]
  },
  {
   "cell_type": "code",
   "execution_count": 38,
   "metadata": {
    "execution": {
     "iopub.execute_input": "2022-09-29T12:57:23.350127Z",
     "iopub.status.busy": "2022-09-29T12:57:23.349402Z",
     "iopub.status.idle": "2022-09-29T12:57:23.368935Z",
     "shell.execute_reply": "2022-09-29T12:57:23.367668Z",
     "shell.execute_reply.started": "2022-09-29T12:57:23.350092Z"
    }
   },
   "outputs": [
    {
     "data": {
      "text/plain": [
       "B4     3579\n",
       "A2     3013\n",
       "A11    2789\n",
       "P1     2681\n",
       "B10    2566\n",
       "       ... \n",
       "P66      46\n",
       "P22       2\n",
       "P79       2\n",
       "P54       1\n",
       "P28       1\n",
       "Name: page 2 (clothing model), Length: 217, dtype: int64"
      ]
     },
     "execution_count": 38,
     "metadata": {},
     "output_type": "execute_result"
    }
   ],
   "source": [
    "df['page 2 (clothing model)'].value_counts()"
   ]
  },
  {
   "cell_type": "code",
   "execution_count": 39,
   "metadata": {
    "execution": {
     "iopub.execute_input": "2022-09-29T12:57:23.371370Z",
     "iopub.status.busy": "2022-09-29T12:57:23.370363Z",
     "iopub.status.idle": "2022-09-29T12:57:24.261386Z",
     "shell.execute_reply": "2022-09-29T12:57:24.260189Z",
     "shell.execute_reply.started": "2022-09-29T12:57:23.371322Z"
    }
   },
   "outputs": [
    {
     "data": {
      "image/png": "[encoded data removed]",
      "text/plain": [
       "<Figure size 720x360 with 1 Axes>"
      ]
     },
     "metadata": {},
     "output_type": "display_data"
    }
   ],
   "source": [
    "# plot the distribution of the page 2 (clothing model) hide the name of the x-axis\n",
    "plt.figure(figsize=(10,5))\n",
    "sns.countplot(x='page 2 (clothing model)', data=df)\n",
    "plt.title('Distribution of the page 2 (clothing model)')\n",
    "# hide the x-axis value\n",
    "plt.xticks([])\n",
    "\n",
    "\n",
    "plt.show()"
   ]
  },
  {
   "cell_type": "markdown",
   "metadata": {},
   "source": [
    "preprocessing"
   ]
  },
  {
   "cell_type": "code",
   "execution_count": 40,
   "metadata": {
    "execution": {
     "iopub.execute_input": "2022-09-29T12:57:24.263455Z",
     "iopub.status.busy": "2022-09-29T12:57:24.263020Z",
     "iopub.status.idle": "2022-09-29T12:57:24.282219Z",
     "shell.execute_reply": "2022-09-29T12:57:24.280734Z",
     "shell.execute_reply.started": "2022-09-29T12:57:24.263413Z"
    }
   },
   "outputs": [],
   "source": [
    "df['page 2 (clothing model)'] = df['page 2 (clothing model)'].factorize()[0]"
   ]
  },
  {
   "cell_type": "code",
   "execution_count": null,
   "metadata": {
    "execution": {
     "iopub.execute_input": "2022-09-29T12:57:24.284184Z",
     "iopub.status.busy": "2022-09-29T12:57:24.283815Z",
     "iopub.status.idle": "2022-09-29T12:57:24.295837Z",
     "shell.execute_reply": "2022-09-29T12:57:24.294863Z",
     "shell.execute_reply.started": "2022-09-29T12:57:24.284151Z"
    }
   },
   "outputs": [],
   "source": [
    "df['page 2 (clothing model)'].value_counts()"
   ]
  },
  {
   "cell_type": "code",
   "execution_count": null,
   "metadata": {
    "execution": {
     "iopub.execute_input": "2022-09-29T12:57:24.297942Z",
     "iopub.status.busy": "2022-09-29T12:57:24.297513Z",
     "iopub.status.idle": "2022-09-29T12:57:24.314835Z",
     "shell.execute_reply": "2022-09-29T12:57:24.313683Z",
     "shell.execute_reply.started": "2022-09-29T12:57:24.297907Z"
    }
   },
   "outputs": [],
   "source": [
    "df['price 2'].value_counts()"
   ]
  },
  {
   "cell_type": "markdown",
   "metadata": {},
   "source": [
    "finding outliers"
   ]
  },
  {
   "cell_type": "code",
   "execution_count": null,
   "metadata": {
    "execution": {
     "iopub.execute_input": "2022-09-29T12:57:24.316557Z",
     "iopub.status.busy": "2022-09-29T12:57:24.316210Z",
     "iopub.status.idle": "2022-09-29T12:57:25.120591Z",
     "shell.execute_reply": "2022-09-29T12:57:25.119511Z",
     "shell.execute_reply.started": "2022-09-29T12:57:24.316525Z"
    }
   },
   "outputs": [],
   "source": [
    "# plot boxplot of the columns in 2*3 grid\n",
    "fig, axes = plt.subplots(2, 3, figsize=(15, 10))\n",
    "sns.boxplot(ax=axes[0, 0], x='price', data=df)\n",
    "sns.boxplot(ax=axes[0, 1], x='page', data=df)\n",
    "sns.boxplot(ax=axes[0, 2], x='day', data=df)\n",
    "sns.boxplot(ax=axes[1, 0], x='month', data=df)\n",
    "sns.boxplot(ax=axes[1, 1], x='colour', data=df)\n",
    "sns.boxplot(ax=axes[1, 2], x='page 2 (clothing model)', data=df)\n",
    "plt.show()"
   ]
  },
  {
   "cell_type": "code",
   "execution_count": null,
   "metadata": {
    "execution": {
     "iopub.execute_input": "2022-09-29T12:57:25.122499Z",
     "iopub.status.busy": "2022-09-29T12:57:25.122093Z",
     "iopub.status.idle": "2022-09-29T12:57:25.288524Z",
     "shell.execute_reply": "2022-09-29T12:57:25.287406Z",
     "shell.execute_reply.started": "2022-09-29T12:57:25.122465Z"
    }
   },
   "outputs": [],
   "source": [
    "# find outliers\n",
    "plt.figure(figsize=(10,5))\n",
    "sns.boxplot(x='price', data=df)\n",
    "plt.title('Distribution of the price 1')\n",
    "plt.show()\n"
   ]
  },
  {
   "cell_type": "code",
   "execution_count": null,
   "metadata": {
    "execution": {
     "iopub.execute_input": "2022-09-29T12:57:25.290547Z",
     "iopub.status.busy": "2022-09-29T12:57:25.290025Z",
     "iopub.status.idle": "2022-09-29T12:57:25.328978Z",
     "shell.execute_reply": "2022-09-29T12:57:25.327857Z",
     "shell.execute_reply.started": "2022-09-29T12:57:25.290515Z"
    }
   },
   "outputs": [],
   "source": [
    "# solve the outliers by using the IQR method\n",
    "Q1 = df['price'].quantile(0.25)\n",
    "Q3 = df['price'].quantile(0.75)\n",
    "IQR = Q3 - Q1\n",
    "df = df[(df['price'] >= Q1 - 1.5*IQR) & (df['price'] <= Q3 + 1.5*IQR)]\n"
   ]
  },
  {
   "cell_type": "code",
   "execution_count": null,
   "metadata": {
    "execution": {
     "iopub.execute_input": "2022-09-29T12:57:25.330701Z",
     "iopub.status.busy": "2022-09-29T12:57:25.330326Z",
     "iopub.status.idle": "2022-09-29T12:57:25.491512Z",
     "shell.execute_reply": "2022-09-29T12:57:25.490352Z",
     "shell.execute_reply.started": "2022-09-29T12:57:25.330663Z"
    }
   },
   "outputs": [],
   "source": [
    "# plot the distribution of the price \n",
    "plt.figure(figsize=(10,5))\n",
    "sns.boxplot(x='price', data=df)\n",
    "plt.title('Distribution of the price')\n",
    "plt.show()\n"
   ]
  },
  {
   "cell_type": "code",
   "execution_count": null,
   "metadata": {
    "execution": {
     "iopub.execute_input": "2022-09-29T12:57:25.493738Z",
     "iopub.status.busy": "2022-09-29T12:57:25.493046Z",
     "iopub.status.idle": "2022-09-29T12:57:25.741869Z",
     "shell.execute_reply": "2022-09-29T12:57:25.740688Z",
     "shell.execute_reply.started": "2022-09-29T12:57:25.493692Z"
    }
   },
   "outputs": [],
   "source": [
    "plt.figure(figsize=(10,5))\n",
    "sns.boxplot(x='page', data=df)\n",
    "plt.title('Distribution of the page')\n",
    "plt.show()\n"
   ]
  },
  {
   "cell_type": "code",
   "execution_count": null,
   "metadata": {
    "execution": {
     "iopub.execute_input": "2022-09-29T12:57:25.749156Z",
     "iopub.status.busy": "2022-09-29T12:57:25.748166Z",
     "iopub.status.idle": "2022-09-29T12:57:25.771610Z",
     "shell.execute_reply": "2022-09-29T12:57:25.770682Z",
     "shell.execute_reply.started": "2022-09-29T12:57:25.749091Z"
    }
   },
   "outputs": [],
   "source": [
    "# solve the outliers by using the IQR method\n",
    "Q1 = df['page'].quantile(0.25)\n",
    "Q3 = df['page'].quantile(0.75)\n",
    "IQR = Q3 - Q1\n",
    "df = df[(df['page'] >= Q1 - 1.5*IQR) & (df['page'] <= Q3 + 1.5*IQR)]\n"
   ]
  },
  {
   "cell_type": "code",
   "execution_count": null,
   "metadata": {
    "execution": {
     "iopub.execute_input": "2022-09-29T12:57:25.774383Z",
     "iopub.status.busy": "2022-09-29T12:57:25.773447Z",
     "iopub.status.idle": "2022-09-29T12:57:25.950420Z",
     "shell.execute_reply": "2022-09-29T12:57:25.949305Z",
     "shell.execute_reply.started": "2022-09-29T12:57:25.774338Z"
    }
   },
   "outputs": [],
   "source": [
    "# plot the distribution of the page\n",
    "plt.figure(figsize=(10,5))\n",
    "sns.boxplot(x='page', data=df)\n",
    "plt.title('Distribution of the page')\n",
    "plt.show()\n"
   ]
  },
  {
   "cell_type": "code",
   "execution_count": null,
   "metadata": {},
   "outputs": [],
   "source": [
    "df['session ID'].value_counts()"
   ]
  },
  {
   "cell_type": "code",
   "execution_count": null,
   "metadata": {},
   "outputs": [],
   "source": [
    "# drop session ID and page 2 (clothing model) column as it's irrelevant for the modeling\n",
    "df.drop(columns=['session ID','page 2 (clothing model)','order'], axis=1, inplace=True)\n",
    "df.info()"
   ]
  },
  {
   "cell_type": "markdown",
   "metadata": {},
   "source": [
    "Modeling"
   ]
  },
  {
   "cell_type": "markdown",
   "metadata": {},
   "source": [
    "Sampling the training data for hyper parameter tuning and feature selection"
   ]
  },
  {
   "cell_type": "code",
   "execution_count": null,
   "metadata": {
    "execution": {
     "iopub.execute_input": "2022-09-29T12:57:25.952901Z",
     "iopub.status.busy": "2022-09-29T12:57:25.952181Z",
     "iopub.status.idle": "2022-09-29T12:57:25.967185Z",
     "shell.execute_reply": "2022-09-29T12:57:25.966063Z",
     "shell.execute_reply.started": "2022-09-29T12:57:25.952868Z"
    }
   },
   "outputs": [],
   "source": [
    "# get a sample of 20000 rows from the train_df to train the model and 5000 rows to test the model from the test_df\n",
    "train_df_sample = df.sample(n=20000, random_state=42)"
   ]
  },
  {
   "cell_type": "code",
   "execution_count": null,
   "metadata": {
    "execution": {
     "iopub.execute_input": "2022-09-29T12:57:25.968839Z",
     "iopub.status.busy": "2022-09-29T12:57:25.968480Z",
     "iopub.status.idle": "2022-09-29T12:57:25.974901Z",
     "shell.execute_reply": "2022-09-29T12:57:25.973821Z",
     "shell.execute_reply.started": "2022-09-29T12:57:25.968807Z"
    }
   },
   "outputs": [],
   "source": [
    "# train test split\n",
    "X = train_df_sample.drop(['price'], axis=1)\n",
    "y = train_df_sample['price']\n",
    "X_train, X_test, y_train, y_test = train_test_split(X, y, test_size=0.2, random_state=42)"
   ]
  },
  {
   "cell_type": "code",
   "execution_count": null,
   "metadata": {},
   "outputs": [],
   "source": [
    "X_train.shape, y_train.shape, X_test.shape, y_test.shape"
   ]
  },
  {
   "cell_type": "markdown",
   "metadata": {},
   "source": [
    "Regression on the price 1 column"
   ]
  },
  {
   "cell_type": "code",
   "execution_count": null,
   "metadata": {},
   "outputs": [],
   "source": [
    "# checking other models to get a better score\n",
    "from sklearn.linear_model import LinearRegression\n",
    "from sklearn.ensemble import RandomForestRegressor\n",
    "from sklearn.ensemble import GradientBoostingRegressor\n",
    "from sklearn.ensemble import AdaBoostRegressor\n",
    "from sklearn.ensemble import BaggingRegressor\n",
    "from sklearn.ensemble import ExtraTreesRegressor\n",
    "from sklearn.ensemble import VotingRegressor\n",
    "from sklearn.ensemble import StackingRegressor\n",
    "from sklearn.linear_model import LinearRegression, Ridge, Lasso, ElasticNet\n",
    "# test the models\n",
    "models = [('linear', LinearRegression()),\n",
    "            ('random_forest', RandomForestRegressor()), \n",
    "            ('gradient_boosting', GradientBoostingRegressor()), \n",
    "            ('adaboost', AdaBoostRegressor()), \n",
    "            ('bagging', BaggingRegressor()), \n",
    "            ('extra_trees', ExtraTreesRegressor()),\n",
    "            ('Linear Regression', LinearRegression()),\n",
    "            ('Ridge Regression', Ridge()),\n",
    "            ('Lasso Regression', Lasso()),\n",
    "            ('ElasticNet Regression', ElasticNet())]\n",
    "models"
   ]
  },
  {
   "cell_type": "code",
   "execution_count": null,
   "metadata": {},
   "outputs": [],
   "source": [
    "# define a function to fit and evaluate the model\n",
    "# import classification report and confusion matrix\n",
    "from operator import mod\n",
    "from sklearn.metrics import classification_report, confusion_matrix\n",
    "from sklearn.svm import SVC\n",
    "from pyexpat import features\n",
    "from sklearn.feature_selection import SelectKBest, chi2\n",
    "from sklearn.preprocessing import StandardScaler\n",
    "from sklearn.preprocessing import LabelEncoder, OneHotEncoder"
   ]
  },
  {
   "cell_type": "code",
   "execution_count": null,
   "metadata": {},
   "outputs": [],
   "source": [
    "# feature selection using SelectKBest\n",
    "# calculate the time taken to run the model\n",
    "import time\n",
    "\n",
    "\n",
    "# i is number of features\n",
    "def features_selection_reg(start, end, step, X_train, y_train, X_test, y_test):\n",
    "    features_comparison = pd.DataFrame({'number_of_features':[],'features':[], 'RF_pred_train':[], 'RF_pred_test':[], 'time':[]})\n",
    "    for i in range(start, end, step):\n",
    "        start_time = time.time()\n",
    "        X_new = SelectKBest(chi2, k=i).fit_transform(X_train, y_train)\n",
    "        X_new.shape\n",
    "        # get the names of the selected features \n",
    "        features = list(X_train.columns[SelectKBest(chi2, k=i).fit(X_train, y_train).get_support()])\n",
    "        print(features)\n",
    "\n",
    "        # drop the features that are not selected\n",
    "        X_new_train = X_train[features]\n",
    "        X_new_test = X_test[features]\n",
    "        \n",
    "        print(X_new_train)\n",
    "        print(X_new_test)\n",
    "        # # Feature Scaling\n",
    "\n",
    "        sc = StandardScaler()\n",
    "        X_new_train = sc.fit_transform(X_new_train)\n",
    "        X_new_test = sc.transform(X_new_test)\n",
    "\n",
    "        # Encoding the Dependent Variable\n",
    "        \n",
    "        labelencoder_y_train = LabelEncoder()\n",
    "        y_new_train = labelencoder_y_train.fit_transform(y_train)\n",
    "        labelencoder_y_test = LabelEncoder()\n",
    "        y_new_test = labelencoder_y_test.fit_transform(y_test)\n",
    "\n",
    "        RF = RandomForestRegressor()\n",
    "        RF.fit(X_new_train, y_new_train)\n",
    "        RF_pred_train = RF.score(X_new_train,y_new_train)\n",
    "        RF_pred_test = RF.score(X_new_test,y_new_test)\n",
    "\n",
    "        end_time = time.time()\n",
    "        time_taken = end_time - start_time\n",
    "        print('Time taken to run the model is: ', time_taken)\n",
    "        features_comparison = features_comparison.append({'number_of_features':i,'features':features , 'RF_pred_train':RF_pred_train, 'RF_pred_test':RF_pred_test, 'time':time_taken}, ignore_index=True)\n",
    "    return features_comparison"
   ]
  },
  {
   "cell_type": "code",
   "execution_count": null,
   "metadata": {},
   "outputs": [],
   "source": [
    "features_comparison_reg = features_selection_reg(1, 10, 1, X_train, y_train, X_test, y_test)"
   ]
  },
  {
   "cell_type": "code",
   "execution_count": null,
   "metadata": {},
   "outputs": [],
   "source": [
    "features_comparison_reg"
   ]
  },
  {
   "cell_type": "code",
   "execution_count": null,
   "metadata": {},
   "outputs": [],
   "source": [
    "RF_pred_train = list(features_comparison_reg['RF_pred_train'])\n",
    "RF_pred_test = list(features_comparison_reg['RF_pred_test'])"
   ]
  },
  {
   "cell_type": "code",
   "execution_count": null,
   "metadata": {},
   "outputs": [],
   "source": [
    "# plot the accuracy of the model with respect to the number of features used both for training and testing data\n",
    "plt.figure(figsize=(10, 5))\n",
    "plt.plot(features_comparison_reg['number_of_features'],RF_pred_train, label='Training Data')\n",
    "plt.plot(features_comparison_reg['number_of_features'], RF_pred_test, label='Test Data')\n",
    "plt.xlabel('Number of Features')\n",
    "plt.ylabel('Accuracy')\n",
    "plt.title('Accuracy of the model with respect to the number of features')\n",
    "plt.legend()\n"
   ]
  },
  {
   "cell_type": "markdown",
   "metadata": {},
   "source": [
    "Select the top 5 features only"
   ]
  },
  {
   "cell_type": "code",
   "execution_count": null,
   "metadata": {},
   "outputs": [],
   "source": [
    "best_features = features_comparison_reg['features'][4]\n",
    "best_features.append('price')\n",
    "print(best_features)"
   ]
  },
  {
   "cell_type": "code",
   "execution_count": null,
   "metadata": {},
   "outputs": [],
   "source": [
    "X_best = train_df_sample[best_features]\n",
    "X_best\n"
   ]
  },
  {
   "cell_type": "code",
   "execution_count": null,
   "metadata": {},
   "outputs": [],
   "source": [
    "X = X_best.drop(['price'],axis=1)\n",
    "y = X_best['price']\n",
    "X_train, X_test, y_train, y_test = train_test_split(X, y, test_size=0.2, random_state=42)"
   ]
  },
  {
   "cell_type": "code",
   "execution_count": null,
   "metadata": {},
   "outputs": [],
   "source": [
    "X_train.shape, y_train.shape, X_test.shape, y_test.shape"
   ]
  },
  {
   "cell_type": "code",
   "execution_count": null,
   "metadata": {},
   "outputs": [],
   "source": [
    "# checking other models to get a better score\n",
    "from sklearn.ensemble import RandomForestRegressor\n",
    "from sklearn.ensemble import GradientBoostingRegressor\n",
    "from sklearn.ensemble import AdaBoostRegressor\n",
    "from sklearn.ensemble import BaggingRegressor\n",
    "from sklearn.ensemble import ExtraTreesRegressor\n",
    "from sklearn.ensemble import VotingRegressor\n",
    "from sklearn.ensemble import StackingRegressor\n",
    "from sklearn.linear_model import LinearRegression, Ridge, Lasso, ElasticNet\n",
    "# test the models\n",
    "models = [('linear', LinearRegression()),\n",
    "            ('random_forest', RandomForestRegressor()), \n",
    "            ('gradient_boosting', GradientBoostingRegressor()), \n",
    "            ('adaboost', AdaBoostRegressor()), \n",
    "            ('bagging', BaggingRegressor()), \n",
    "            ('extra_trees', ExtraTreesRegressor()),\n",
    "            ('Linear Regression', LinearRegression()),\n",
    "            ('Ridge Regression', Ridge()),\n",
    "            ('Lasso Regression', Lasso()),\n",
    "            ('ElasticNet Regression', ElasticNet())]\n",
    "models"
   ]
  },
  {
   "cell_type": "code",
   "execution_count": null,
   "metadata": {},
   "outputs": [],
   "source": [
    "# train the models\n",
    "results = {}\n",
    "for name, model in models:\n",
    "    model.fit(X_train, y_train)\n",
    "    # save the results into a dictionary\n",
    "    results[name] = model.score(X_test, y_test)\n",
    "results\n"
   ]
  },
  {
   "cell_type": "markdown",
   "metadata": {},
   "source": [
    "best model is random_forest"
   ]
  },
  {
   "cell_type": "code",
   "execution_count": null,
   "metadata": {},
   "outputs": [],
   "source": [
    "RF_reg = RandomForestRegressor()\n",
    "RF_reg.fit(X_train,y_train)\n",
    "\n",
    "predictions = RF_reg.predict(X_test)"
   ]
  },
  {
   "cell_type": "code",
   "execution_count": null,
   "metadata": {},
   "outputs": [],
   "source": [
    "# compare the predictions before and after the categorical columns were converted to numerical columns\n",
    "sns.distplot(predictions, label='predictions before',color='red')\n",
    "sns.distplot(y_test, label='real median house values', color='black')\n",
    "plt.legend()"
   ]
  },
  {
   "cell_type": "markdown",
   "metadata": {},
   "source": [
    "### Classification on the Price 2 column which classify if a product is average: 0 or above average: 1"
   ]
  },
  {
   "cell_type": "code",
   "execution_count": null,
   "metadata": {
    "execution": {
     "iopub.execute_input": "2022-09-29T12:57:25.977169Z",
     "iopub.status.busy": "2022-09-29T12:57:25.976566Z",
     "iopub.status.idle": "2022-09-29T12:57:25.993507Z",
     "shell.execute_reply": "2022-09-29T12:57:25.992288Z",
     "shell.execute_reply.started": "2022-09-29T12:57:25.977136Z"
    }
   },
   "outputs": [],
   "source": [
    "# train test split\n",
    "X = train_df_sample.drop(['price 2'], axis=1)\n",
    "y = train_df_sample['price 2']\n",
    "X_train, X_test, y_train, y_test = train_test_split(X, y, test_size=0.2, random_state=42)\n"
   ]
  },
  {
   "cell_type": "code",
   "execution_count": null,
   "metadata": {
    "execution": {
     "iopub.execute_input": "2022-09-29T12:57:25.995416Z",
     "iopub.status.busy": "2022-09-29T12:57:25.995087Z",
     "iopub.status.idle": "2022-09-29T12:57:26.005252Z",
     "shell.execute_reply": "2022-09-29T12:57:26.004132Z",
     "shell.execute_reply.started": "2022-09-29T12:57:25.995387Z"
    }
   },
   "outputs": [],
   "source": [
    "X_train.shape, y_train.shape, X_test.shape, y_test.shape"
   ]
  },
  {
   "cell_type": "code",
   "execution_count": null,
   "metadata": {
    "execution": {
     "iopub.execute_input": "2022-09-29T12:57:26.006891Z",
     "iopub.status.busy": "2022-09-29T12:57:26.006549Z",
     "iopub.status.idle": "2022-09-29T12:57:26.020839Z",
     "shell.execute_reply": "2022-09-29T12:57:26.019594Z",
     "shell.execute_reply.started": "2022-09-29T12:57:26.006862Z"
    }
   },
   "outputs": [],
   "source": [
    "# feature selection using SelectKBest\n",
    "# calculate the time taken to run the model\n",
    "import time\n",
    "\n",
    "\n",
    "# i is number of features\n",
    "def features_selection(start, end, step, X_train, y_train, X_test, y_test):\n",
    "    features_comparison = pd.DataFrame({'number_of_features':[], 'classification_report_train':[], 'confusion_matrix_train':[], 'classification_report_test':[], 'confusion_matrix_test':[], 'time':[]})\n",
    "    for i in range(start, end, step):\n",
    "        start_time = time.time()\n",
    "        X_new = SelectKBest(chi2, k=i).fit_transform(X_train, y_train)\n",
    "        X_new.shape\n",
    "        # get the names of the selected features \n",
    "        features = list(X_train.columns[SelectKBest(chi2, k=i).fit(X_train, y_train).get_support()])\n",
    "        print(features)\n",
    "\n",
    "        # drop the features that are not selected\n",
    "        X_new_train = X_train[features]\n",
    "        X_new_test = X_test[features]\n",
    "        \n",
    "        print(X_new_train)\n",
    "        print(X_new_test)\n",
    "        # # Feature Scaling\n",
    "\n",
    "        sc = StandardScaler()\n",
    "        X_new_train = sc.fit_transform(X_new_train)\n",
    "        X_new_test = sc.transform(X_new_test)\n",
    "\n",
    "        # Encoding the Dependent Variable\n",
    "        \n",
    "        labelencoder_y_train = LabelEncoder()\n",
    "        y_new_train = labelencoder_y_train.fit_transform(y_train)\n",
    "        labelencoder_y_test = LabelEncoder()\n",
    "        y_new_test = labelencoder_y_test.fit_transform(y_test)\n",
    "\n",
    "        svm_rbf = SVC(kernel='rbf')\n",
    "        svm_rbf.fit(X_new_train, y_new_train)\n",
    "        svm_rbf_pred_train = svm_rbf.predict(X_new_train)\n",
    "        svm_rbf_pred_test = svm_rbf.predict(X_new_test)\n",
    "        model_train_cr = classification_report(y_new_train, svm_rbf_pred_train)\n",
    "        model_train_cm = confusion_matrix(y_new_train, svm_rbf_pred_train)\n",
    "\n",
    "        model_test_cr = classification_report(y_new_test, svm_rbf_pred_test)\n",
    "        model_test_cm = confusion_matrix(y_new_test, svm_rbf_pred_test)\n",
    "        end_time = time.time()\n",
    "        time_taken = end_time - start_time\n",
    "        print('Time taken to run the model is: ', time_taken)\n",
    "        features_comparison = features_comparison.append({'number_of_features':i,'features':features ,'classification_report_train':model_train_cr, 'confusion_matrix_train':model_train_cm, 'classification_report_test':model_test_cr, 'confusion_matrix_test':model_test_cm, 'time':time_taken}, ignore_index=True)\n",
    "    return features_comparison"
   ]
  },
  {
   "cell_type": "code",
   "execution_count": null,
   "metadata": {
    "execution": {
     "iopub.execute_input": "2022-09-29T12:57:26.022815Z",
     "iopub.status.busy": "2022-09-29T12:57:26.022138Z",
     "iopub.status.idle": "2022-09-29T12:57:53.767205Z",
     "shell.execute_reply": "2022-09-29T12:57:53.766073Z",
     "shell.execute_reply.started": "2022-09-29T12:57:26.022780Z"
    }
   },
   "outputs": [],
   "source": [
    "features_comparison = features_selection(1, 10, 1, X_train, y_train, X_test, y_test)"
   ]
  },
  {
   "cell_type": "code",
   "execution_count": null,
   "metadata": {
    "execution": {
     "iopub.execute_input": "2022-09-29T12:57:53.768895Z",
     "iopub.status.busy": "2022-09-29T12:57:53.768545Z",
     "iopub.status.idle": "2022-09-29T12:57:53.804013Z",
     "shell.execute_reply": "2022-09-29T12:57:53.802887Z",
     "shell.execute_reply.started": "2022-09-29T12:57:53.768864Z"
    }
   },
   "outputs": [],
   "source": [
    "features_comparison"
   ]
  },
  {
   "cell_type": "code",
   "execution_count": null,
   "metadata": {
    "execution": {
     "iopub.execute_input": "2022-09-29T12:57:53.806035Z",
     "iopub.status.busy": "2022-09-29T12:57:53.805591Z",
     "iopub.status.idle": "2022-09-29T12:57:53.818592Z",
     "shell.execute_reply": "2022-09-29T12:57:53.817692Z",
     "shell.execute_reply.started": "2022-09-29T12:57:53.806000Z"
    }
   },
   "outputs": [],
   "source": [
    "#print the classification report of the training data\n",
    "def features_comparison_report(i):\n",
    "    print('Classification Report of Training Data')\n",
    "    print(features_comparison['classification_report_train'][i])\n",
    "    print(features_comparison['confusion_matrix_train'][i])\n",
    "    print('')\n",
    "    #print the classification report of the test data\n",
    "    print('Classification Report of Test Data')\n",
    "    print(features_comparison['classification_report_test'][i])\n",
    "    print(features_comparison['confusion_matrix_test'][i])\n",
    "    print('')\n",
    "    #print the number of features\n",
    "    print('Number of Features')\n",
    "    print(features_comparison['number_of_features'][i])\n",
    "    print('')\n",
    "    #print the names of the features\n",
    "    print('Names of the Features')\n",
    "    print(features_comparison['features'][i])\n",
    "    print('')\n",
    "\n",
    "features_comparison_report(1)"
   ]
  },
  {
   "cell_type": "markdown",
   "metadata": {},
   "source": [
    "The only feature that determine the if the price"
   ]
  },
  {
   "cell_type": "code",
   "execution_count": null,
   "metadata": {
    "execution": {
     "iopub.execute_input": "2022-09-29T12:57:53.820572Z",
     "iopub.status.busy": "2022-09-29T12:57:53.820217Z",
     "iopub.status.idle": "2022-09-29T12:57:53.829876Z",
     "shell.execute_reply": "2022-09-29T12:57:53.828986Z",
     "shell.execute_reply.started": "2022-09-29T12:57:53.820533Z"
    }
   },
   "outputs": [],
   "source": [
    "print(features_comparison['classification_report_train'][0].split())\n",
    "print(features_comparison['classification_report_test'][0].split())\n",
    "print(features_comparison['classification_report_train'][0].split()[14])"
   ]
  },
  {
   "cell_type": "code",
   "execution_count": null,
   "metadata": {
    "execution": {
     "iopub.execute_input": "2022-09-29T12:57:53.831155Z",
     "iopub.status.busy": "2022-09-29T12:57:53.830837Z",
     "iopub.status.idle": "2022-09-29T12:57:53.841434Z",
     "shell.execute_reply": "2022-09-29T12:57:53.840325Z",
     "shell.execute_reply.started": "2022-09-29T12:57:53.831126Z"
    }
   },
   "outputs": [],
   "source": [
    "# get the list of accuracies of the training data\n",
    "def plot_accuracy(features_comparison):\n",
    "    train_accuracy = []\n",
    "    test_accuracy = []\n",
    "    for i in range(0, len(features_comparison)):\n",
    "        train_accuracy.append(features_comparison['classification_report_train'][i].split()[15])\n",
    "        # get the list of accuracies of the test data\n",
    "        test_accuracy.append(features_comparison['classification_report_test'][i].split()[15])\n",
    "        \n",
    "    \n",
    "    # convert the list of accuracies of the training data to float\n",
    "    train_accuracy = [float(i) for i in train_accuracy]\n",
    "    # convert the list of accuracies of the test data to float\n",
    "    test_accuracy = [float(i) for i in test_accuracy]\n",
    "\n",
    "    print(train_accuracy)\n",
    "    print(test_accuracy)\n",
    "    return train_accuracy, test_accuracy\n",
    "\n",
    "train_accuracy, test_accuracy = plot_accuracy(features_comparison)"
   ]
  },
  {
   "cell_type": "code",
   "execution_count": null,
   "metadata": {
    "execution": {
     "iopub.execute_input": "2022-09-29T12:57:53.842984Z",
     "iopub.status.busy": "2022-09-29T12:57:53.842381Z",
     "iopub.status.idle": "2022-09-29T12:57:54.125141Z",
     "shell.execute_reply": "2022-09-29T12:57:54.124059Z",
     "shell.execute_reply.started": "2022-09-29T12:57:53.842952Z"
    }
   },
   "outputs": [],
   "source": [
    "# plot the accuracy of the model with respect to the number of features used both for training and testing data\n",
    "plt.figure(figsize=(10, 5))\n",
    "plt.plot(features_comparison['number_of_features'], train_accuracy, label='Training Data')\n",
    "plt.plot(features_comparison['number_of_features'], test_accuracy, label='Test Data')\n",
    "plt.xlabel('Number of Features')\n",
    "plt.ylabel('Accuracy')\n",
    "plt.title('Accuracy of the model with respect to the number of features')\n",
    "plt.legend()\n"
   ]
  },
  {
   "cell_type": "markdown",
   "metadata": {},
   "source": [
    "### Exactly 3 features are best for the model with no overfitting and high accuracy of 100% "
   ]
  },
  {
   "cell_type": "code",
   "execution_count": null,
   "metadata": {
    "execution": {
     "iopub.execute_input": "2022-09-29T12:57:54.127738Z",
     "iopub.status.busy": "2022-09-29T12:57:54.126652Z",
     "iopub.status.idle": "2022-09-29T12:57:54.133986Z",
     "shell.execute_reply": "2022-09-29T12:57:54.132928Z",
     "shell.execute_reply.started": "2022-09-29T12:57:54.127692Z"
    }
   },
   "outputs": [],
   "source": [
    "# use 5 features to train the model\n",
    "best_features = features_comparison['features'][2]\n",
    "print(best_features)\n",
    "#X_new = SelectKBest(chi2, k=5).fit_transform(X_train, y_train)"
   ]
  },
  {
   "cell_type": "code",
   "execution_count": null,
   "metadata": {
    "execution": {
     "iopub.execute_input": "2022-09-29T12:57:54.135561Z",
     "iopub.status.busy": "2022-09-29T12:57:54.135238Z",
     "iopub.status.idle": "2022-09-29T12:57:54.146974Z",
     "shell.execute_reply": "2022-09-29T12:57:54.145987Z",
     "shell.execute_reply.started": "2022-09-29T12:57:54.135532Z"
    }
   },
   "outputs": [],
   "source": [
    "X_train_best = X_train[best_features]"
   ]
  },
  {
   "cell_type": "code",
   "execution_count": null,
   "metadata": {
    "execution": {
     "iopub.execute_input": "2022-09-29T12:57:54.148742Z",
     "iopub.status.busy": "2022-09-29T12:57:54.148407Z",
     "iopub.status.idle": "2022-09-29T12:57:54.157905Z",
     "shell.execute_reply": "2022-09-29T12:57:54.156989Z",
     "shell.execute_reply.started": "2022-09-29T12:57:54.148711Z"
    }
   },
   "outputs": [],
   "source": [
    "# define a function to fit and evaluate the model\n",
    "# import classification report and confusion matrix\n",
    "from operator import mod\n",
    "from sklearn.metrics import classification_report, confusion_matrix\n",
    "def fit_and_evaluate(model):\n",
    "    # fit the model to the training data\n",
    "    model.fit(X_train, y_train)\n",
    "    # make predictions and evalute\n",
    "    model_pred_train = model.predict(X_train)\n",
    "    model_pred_test = model.predict(X_test)\n",
    "\n",
    "    model_train_cr = classification_report(y_train, model_pred_train)\n",
    "    model_train_cm = confusion_matrix(y_train, model_pred_train)\n",
    "\n",
    "    model_test_cr = classification_report(y_test, model_pred_test)\n",
    "    model_test_cm = confusion_matrix(y_test, model_pred_test)\n",
    "\n",
    "    return model_train_cr, model_train_cm, model_test_cr, model_test_cm"
   ]
  },
  {
   "cell_type": "code",
   "execution_count": null,
   "metadata": {
    "execution": {
     "iopub.execute_input": "2022-09-29T12:57:54.159375Z",
     "iopub.status.busy": "2022-09-29T12:57:54.159060Z",
     "iopub.status.idle": "2022-09-29T12:58:32.907247Z",
     "shell.execute_reply": "2022-09-29T12:58:32.906022Z",
     "shell.execute_reply.started": "2022-09-29T12:57:54.159347Z"
    }
   },
   "outputs": [],
   "source": [
    "# Using Logistic Regression, KNN, Decision Tree, Random Forest\n",
    "from sklearn.linear_model import LogisticRegression\n",
    "from sklearn.neighbors import KNeighborsClassifier\n",
    "from sklearn.tree import DecisionTreeClassifier\n",
    "from sklearn.ensemble import RandomForestClassifier\n",
    "from sklearn.svm import SVC\n",
    "#calculate the time taken to run the model\n",
    "import time\n",
    "\n",
    "# Logistic Regression\n",
    "start_time = time.time()\n",
    "\n",
    "log_reg = LogisticRegression()\n",
    "log_reg_cr, log_reg_cm, log_reg_test_cr, log_reg_test_cm = fit_and_evaluate(log_reg)\n",
    "end_time = time.time()\n",
    "time_taken = end_time - start_time\n",
    "print('Logistic Regression: done!')\n",
    "print('1 out of 5 models completed')\n",
    "print('Time taken to run the model is: ', time_taken)\n",
    "\n",
    "# KNN\n",
    "start_time = time.time()\n",
    "knn = KNeighborsClassifier()\n",
    "knn_cr, knn_cm, knn_test_cr, knn_test_cm = fit_and_evaluate(knn)\n",
    "end_time = time.time()\n",
    "time_taken = end_time - start_time\n",
    "print('KNN: done!')\n",
    "print('2 out of 5 models completed')\n",
    "print('Time taken to run the model is: ', time_taken)\n",
    "\n",
    "# Decision Tree\n",
    "start_time = time.time()\n",
    "dt = DecisionTreeClassifier()\n",
    "dt_cr, dt_cm, dt_test_cr, dt_test_cm = fit_and_evaluate(dt)\n",
    "end_time = time.time()\n",
    "time_taken = end_time - start_time\n",
    "print('Decision Tree: done!')\n",
    "print('3 out of 5 models completed')\n",
    "print('Time taken to run the model is: ', time_taken)\n",
    "\n",
    "# Random Forest\n",
    "start_time = time.time()\n",
    "rf = RandomForestClassifier()\n",
    "rf_cr, rf_cm, rf_test_cr, rf_test_cm = fit_and_evaluate(rf)\n",
    "end_time = time.time()\n",
    "time_taken = end_time - start_time\n",
    "print('Random Forest: done!')\n",
    "print('4 out of 5 models completed')\n",
    "print('Time taken to run the model is: ', time_taken)\n",
    "\n",
    "# different kernel SVM\n",
    "start_time = time.time()\n",
    "svm= SVC()\n",
    "svm_cr, svm_cm, svm_test_cr, svm_test_cm = fit_and_evaluate(svm)\n",
    "end_time = time.time()\n",
    "time_taken = end_time - start_time\n",
    "print('SVM Linear: done!')\n",
    "print('5 out of 5 models completed')\n",
    "print('Time taken to run the model is: ', time_taken)\n",
    "\n",
    "print('All models completed!')\n"
   ]
  },
  {
   "cell_type": "code",
   "execution_count": null,
   "metadata": {
    "execution": {
     "iopub.execute_input": "2022-09-29T12:58:32.909550Z",
     "iopub.status.busy": "2022-09-29T12:58:32.908852Z",
     "iopub.status.idle": "2022-09-29T12:58:32.935002Z",
     "shell.execute_reply": "2022-09-29T12:58:32.933784Z",
     "shell.execute_reply.started": "2022-09-29T12:58:32.909507Z"
    }
   },
   "outputs": [],
   "source": [
    "# create a data frame to store the results of the models\n",
    "# and reshape the classification report and confusion matrix\n",
    "model_comparison = pd.DataFrame({'model':['Logistic Regression', 'KNN', 'Decision Tree', 'Random Forest', 'SVM'],\n",
    "                                    'classification_report_train':[log_reg_cr, knn_cr, dt_cr, rf_cr, svm_cr, ],\n",
    "                                    'confusion_matrix_train':[log_reg_cm, knn_cm, dt_cm, rf_cm, svm_cm],\n",
    "                                    'classification_report_test':[log_reg_test_cr, knn_test_cr, dt_test_cr, rf_test_cr, svm_test_cr],\n",
    "                                    'confusion_matrix_test':[log_reg_test_cm, knn_test_cm, dt_test_cm, rf_test_cm, svm_test_cm]})\n",
    "model_comparison\n",
    "\n"
   ]
  },
  {
   "cell_type": "code",
   "execution_count": null,
   "metadata": {
    "execution": {
     "iopub.execute_input": "2022-09-29T12:58:32.937294Z",
     "iopub.status.busy": "2022-09-29T12:58:32.936362Z",
     "iopub.status.idle": "2022-09-29T12:58:32.950571Z",
     "shell.execute_reply": "2022-09-29T12:58:32.949704Z",
     "shell.execute_reply.started": "2022-09-29T12:58:32.937260Z"
    }
   },
   "outputs": [],
   "source": [
    "i = 0\n",
    "print('Classification Report of Training Data')\n",
    "for i in range(0, len(model_comparison)):\n",
    "    print(model_comparison['model'][i])\n",
    "    print(model_comparison['classification_report_train'][i])\n",
    "    print(model_comparison['confusion_matrix_train'][i])\n",
    "    print('')\n",
    "    i += 1"
   ]
  },
  {
   "cell_type": "code",
   "execution_count": null,
   "metadata": {
    "execution": {
     "iopub.execute_input": "2022-09-29T12:58:32.952450Z",
     "iopub.status.busy": "2022-09-29T12:58:32.951776Z",
     "iopub.status.idle": "2022-09-29T12:58:32.961860Z",
     "shell.execute_reply": "2022-09-29T12:58:32.960706Z",
     "shell.execute_reply.started": "2022-09-29T12:58:32.952417Z"
    }
   },
   "outputs": [],
   "source": [
    "# Classification Report of test data\n",
    "i = 0\n",
    "print('Classification Report of Test Data')\n",
    "for i in range(0, len(model_comparison)):\n",
    "    print(model_comparison['model'][i])\n",
    "    print(model_comparison['classification_report_test'][i])\n",
    "    print(model_comparison['confusion_matrix_test'][i])\n",
    "    print('')\n",
    "    i += 1\n",
    "    "
   ]
  },
  {
   "cell_type": "markdown",
   "metadata": {},
   "source": [
    "best models are decision tree and random forest"
   ]
  },
  {
   "cell_type": "markdown",
   "metadata": {},
   "source": [
    "# k-means clustering"
   ]
  },
  {
   "cell_type": "code",
   "execution_count": null,
   "metadata": {
    "execution": {
     "iopub.execute_input": "2022-09-29T12:58:32.964028Z",
     "iopub.status.busy": "2022-09-29T12:58:32.963071Z",
     "iopub.status.idle": "2022-09-29T12:58:33.027214Z",
     "shell.execute_reply": "2022-09-29T12:58:33.025965Z",
     "shell.execute_reply.started": "2022-09-29T12:58:32.963985Z"
    }
   },
   "outputs": [],
   "source": [
    "# Set the styles to Seaborn\n",
    "sns.set()\n",
    "# Import the KMeans module so we can perform k-means clustering with sklearn\n",
    "from sklearn.cluster import KMeans"
   ]
  },
  {
   "cell_type": "code",
   "execution_count": null,
   "metadata": {
    "execution": {
     "iopub.execute_input": "2022-09-29T12:58:33.029094Z",
     "iopub.status.busy": "2022-09-29T12:58:33.028709Z",
     "iopub.status.idle": "2022-09-29T12:58:33.036491Z",
     "shell.execute_reply": "2022-09-29T12:58:33.035359Z",
     "shell.execute_reply.started": "2022-09-29T12:58:33.029061Z"
    }
   },
   "outputs": [],
   "source": [
    "df.shape"
   ]
  },
  {
   "cell_type": "code",
   "execution_count": null,
   "metadata": {
    "execution": {
     "iopub.execute_input": "2022-09-29T12:58:33.038015Z",
     "iopub.status.busy": "2022-09-29T12:58:33.037667Z",
     "iopub.status.idle": "2022-09-29T12:58:33.057624Z",
     "shell.execute_reply": "2022-09-29T12:58:33.056544Z",
     "shell.execute_reply.started": "2022-09-29T12:58:33.037986Z"
    }
   },
   "outputs": [],
   "source": [
    "df.head(20)"
   ]
  },
  {
   "cell_type": "code",
   "execution_count": null,
   "metadata": {
    "execution": {
     "iopub.execute_input": "2022-09-29T12:58:33.059035Z",
     "iopub.status.busy": "2022-09-29T12:58:33.058743Z",
     "iopub.status.idle": "2022-09-29T12:58:33.078792Z",
     "shell.execute_reply": "2022-09-29T12:58:33.077704Z",
     "shell.execute_reply.started": "2022-09-29T12:58:33.059008Z"
    }
   },
   "outputs": [],
   "source": [
    "df.info()"
   ]
  },
  {
   "cell_type": "code",
   "execution_count": null,
   "metadata": {
    "execution": {
     "iopub.execute_input": "2022-09-29T12:58:33.081254Z",
     "iopub.status.busy": "2022-09-29T12:58:33.080279Z",
     "iopub.status.idle": "2022-09-29T12:58:33.107282Z",
     "shell.execute_reply": "2022-09-29T12:58:33.105695Z",
     "shell.execute_reply.started": "2022-09-29T12:58:33.081211Z"
    }
   },
   "outputs": [],
   "source": [
    "# Create a copy of the original dataset\n",
    "data_mapped = df.copy()\n",
    "data_mapped"
   ]
  },
  {
   "cell_type": "code",
   "execution_count": null,
   "metadata": {
    "execution": {
     "iopub.execute_input": "2022-09-29T12:58:33.109612Z",
     "iopub.status.busy": "2022-09-29T12:58:33.108967Z",
     "iopub.status.idle": "2022-09-29T12:58:33.130882Z",
     "shell.execute_reply": "2022-09-29T12:58:33.129680Z",
     "shell.execute_reply.started": "2022-09-29T12:58:33.109580Z"
    }
   },
   "outputs": [],
   "source": [
    "x = data_mapped.iloc[:,3:14]\n",
    "x"
   ]
  },
  {
   "cell_type": "markdown",
   "metadata": {},
   "source": [
    "standardize the features"
   ]
  },
  {
   "cell_type": "code",
   "execution_count": null,
   "metadata": {
    "execution": {
     "iopub.execute_input": "2022-09-29T12:58:33.133675Z",
     "iopub.status.busy": "2022-09-29T12:58:33.132585Z",
     "iopub.status.idle": "2022-09-29T12:58:33.197843Z",
     "shell.execute_reply": "2022-09-29T12:58:33.196550Z",
     "shell.execute_reply.started": "2022-09-29T12:58:33.133609Z"
    }
   },
   "outputs": [],
   "source": [
    "from sklearn import preprocessing\n",
    "# Scale the inputs\n",
    "# preprocessing.scale scales each variable (column in x) with respect to itself\n",
    "# The new result is an array\n",
    "x_scaled = preprocessing.scale(x)\n",
    "x_scaled"
   ]
  },
  {
   "cell_type": "markdown",
   "metadata": {},
   "source": [
    "Elbow Method to determine the number of clusters"
   ]
  },
  {
   "cell_type": "code",
   "execution_count": null,
   "metadata": {
    "execution": {
     "iopub.execute_input": "2022-09-29T12:58:33.201094Z",
     "iopub.status.busy": "2022-09-29T12:58:33.200607Z",
     "iopub.status.idle": "2022-09-29T12:58:59.409529Z",
     "shell.execute_reply": "2022-09-29T12:58:59.408148Z",
     "shell.execute_reply.started": "2022-09-29T12:58:33.201060Z"
    }
   },
   "outputs": [],
   "source": [
    "# Createa an empty list\n",
    "wcss =[]\n",
    "\n",
    "# Create all possible cluster solutions with a loop\n",
    "# We have chosen to get solutions from 1 to 9 clusters; you can ammend that if you wish\n",
    "for i in range(1,10):\n",
    "    # Cluster solution with i clusters\n",
    "    kmeans = KMeans(i)\n",
    "    # Fit the STANDARDIZED data\n",
    "    kmeans.fit(x_scaled)\n",
    "    # Append the WCSS for the iteration\n",
    "    wcss.append(kmeans.inertia_)\n",
    "    \n",
    "# Check the result\n",
    "wcss"
   ]
  },
  {
   "cell_type": "code",
   "execution_count": null,
   "metadata": {
    "execution": {
     "iopub.execute_input": "2022-09-29T12:58:59.411582Z",
     "iopub.status.busy": "2022-09-29T12:58:59.411226Z",
     "iopub.status.idle": "2022-09-29T12:58:59.708386Z",
     "shell.execute_reply": "2022-09-29T12:58:59.707221Z",
     "shell.execute_reply.started": "2022-09-29T12:58:59.411547Z"
    }
   },
   "outputs": [],
   "source": [
    "# Plot the number of clusters vs WCSS\n",
    "plt.plot(range(1,10),wcss)\n",
    "# Name axes\n",
    "plt.xlabel('Number of clusters')\n",
    "plt.ylabel('WCSS')"
   ]
  },
  {
   "cell_type": "markdown",
   "metadata": {},
   "source": [
    "Explore clustering solutions and select the number of clusters"
   ]
  },
  {
   "cell_type": "code",
   "execution_count": null,
   "metadata": {
    "execution": {
     "iopub.execute_input": "2022-09-29T12:58:59.710811Z",
     "iopub.status.busy": "2022-09-29T12:58:59.710092Z",
     "iopub.status.idle": "2022-09-29T12:59:05.040405Z",
     "shell.execute_reply": "2022-09-29T12:59:05.039461Z",
     "shell.execute_reply.started": "2022-09-29T12:58:59.710772Z"
    }
   },
   "outputs": [],
   "source": [
    "kmeans_new = KMeans(3)\n",
    "# Fit the data\n",
    "kmeans_new.fit(x_scaled)\n",
    "# Create a new data frame with the predicted clusters\n",
    "clusters_new = x.copy()\n",
    "clusters_new['cluster_pred'] = kmeans_new.fit_predict(x_scaled)\n",
    "clusters_new"
   ]
  },
  {
   "cell_type": "code",
   "execution_count": null,
   "metadata": {
    "execution": {
     "iopub.execute_input": "2022-09-29T12:59:05.042070Z",
     "iopub.status.busy": "2022-09-29T12:59:05.041512Z",
     "iopub.status.idle": "2022-09-29T12:59:05.269535Z",
     "shell.execute_reply": "2022-09-29T12:59:05.267656Z",
     "shell.execute_reply.started": "2022-09-29T12:59:05.042036Z"
    }
   },
   "outputs": [],
   "source": [
    "# Plot\n",
    "plt.scatter(clusters_new['country'],clusters_new['order'],c=clusters_new['cluster_pred'],cmap='rainbow')\n",
    "plt.xlabel('country')\n",
    "plt.ylabel('order')"
   ]
  },
  {
   "cell_type": "code",
   "execution_count": null,
   "metadata": {},
   "outputs": [],
   "source": []
  }
 ],
 "metadata": {
  "kernelspec": {
   "display_name": "Python 3 (ipykernel)",
   "language": "python",
   "name": "python3"
  },
  "language_info": {
   "codemirror_mode": {
    "name": "ipython",
    "version": 3
   },
   "file_extension": ".py",
   "mimetype": "text/x-python",
   "name": "python",
   "nbconvert_exporter": "python",
   "pygments_lexer": "ipython3",
   "version": "3.9.12"
  },
  "vscode": {
   "interpreter": {
    "hash": "78d82b7def9e2f498509f81d08ec61e60a16c36e803fbb397ba5c4e0dc079956"
   }
  }
 },
 "nbformat": 4,
 "nbformat_minor": 4
}
